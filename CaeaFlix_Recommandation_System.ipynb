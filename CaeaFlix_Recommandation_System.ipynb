{
  "cells": [
    {
      "cell_type": "markdown",
      "metadata": {
        "id": "view-in-github",
        "colab_type": "text"
      },
      "source": [
        "<a href=\"https://colab.research.google.com/github/EsrinErdem/Movie-Recommandation-System/blob/main/CaeaFlix_Recommandation_System.ipynb\" target=\"_parent\"><img src=\"https://colab.research.google.com/assets/colab-badge.svg\" alt=\"Open In Colab\"/></a>"
      ]
    },
    {
      "cell_type": "markdown",
      "id": "ae4c4b01",
      "metadata": {
        "id": "ae4c4b01"
      },
      "source": [
        "# CAEAFLIX - RECOMMANDATION SYSTEM "
      ]
    },
    {
      "cell_type": "code",
      "execution_count": null,
      "id": "c24c8638",
      "metadata": {
        "id": "c24c8638"
      },
      "outputs": [],
      "source": [
        "#We import usefull libraries\n",
        "import pandas as pd\n",
        "import numpy as np\n",
        "from sklearn.feature_extraction.text import CountVectorizer\n",
        "from sklearn.metrics.pairwise import cosine_similarity"
      ]
    },
    {
      "cell_type": "code",
      "source": [
        "df=pd.read_csv('df_finish_v4')\n",
        "df.drop(columns=['Unnamed: 0'],inplace=True)"
      ],
      "metadata": {
        "id": "kOAYOYYLmLnA"
      },
      "id": "kOAYOYYLmLnA",
      "execution_count": null,
      "outputs": []
    },
    {
      "cell_type": "code",
      "execution_count": null,
      "id": "ee1a6550-5caf-4ce5-9418-2009f13ef868",
      "metadata": {
        "colab": {
          "base_uri": "https://localhost:8080/"
        },
        "id": "ee1a6550-5caf-4ce5-9418-2009f13ef868",
        "outputId": "bf36199b-848b-481b-c6cd-4e20b7d507e8"
      },
      "outputs": [
        {
          "output_type": "execute_result",
          "data": {
            "text/plain": [
              "(14842, 24)"
            ]
          },
          "metadata": {},
          "execution_count": 6
        }
      ],
      "source": [
        "df.shape"
      ]
    },
    {
      "cell_type": "code",
      "source": [
        "df.columns"
      ],
      "metadata": {
        "colab": {
          "base_uri": "https://localhost:8080/"
        },
        "id": "EX7ekS5PnQhR",
        "outputId": "1818b762-6434-4e62-c6d8-2a1233d065c9"
      },
      "id": "EX7ekS5PnQhR",
      "execution_count": null,
      "outputs": [
        {
          "output_type": "execute_result",
          "data": {
            "text/plain": [
              "Index(['id_tmdb', 'tconst', 'movies_keywords', 'companies', 'movies_websites',\n",
              "       'movies_popularity', 'nconst', 'primaryTitle', 'genres',\n",
              "       'movies_poster', 'movies_budget', 'movies_overview', 'movies_revenue',\n",
              "       'iso_global', 'actors', 'actress', 'producer', 'director', 'writer',\n",
              "       'startYear', 'runtimeMinutes', 'averageRating', 'numVotes',\n",
              "       'diffusion'],\n",
              "      dtype='object')"
            ]
          },
          "metadata": {},
          "execution_count": 7
        }
      ]
    },
    {
      "cell_type": "code",
      "execution_count": null,
      "id": "3c8dd51b",
      "metadata": {
        "colab": {
          "base_uri": "https://localhost:8080/"
        },
        "id": "3c8dd51b",
        "outputId": "de29c67b-7989-4bb8-cad5-fa6ee27f716a"
      },
      "outputs": [
        {
          "output_type": "stream",
          "name": "stderr",
          "text": [
            "/usr/local/lib/python3.7/dist-packages/ipykernel_launcher.py:6: FutureWarning: The default value of regex will change from True to False in a future version. In addition, single character regular expressions will *not* be treated as literal strings when regex=True.\n",
            "  \n",
            "/usr/local/lib/python3.7/dist-packages/ipykernel_launcher.py:7: FutureWarning: The default value of regex will change from True to False in a future version. In addition, single character regular expressions will *not* be treated as literal strings when regex=True.\n",
            "  import sys\n"
          ]
        }
      ],
      "source": [
        "#We select the features to use for the recommandation system (only string)\n",
        "features = ['movies_keywords', 'primaryTitle','genres', 'director','actors','actress','companies','movies_overview']\n",
        "\n",
        "#We clean them\n",
        "for feature in features:\n",
        "    df[feature] = df[feature].str.replace(\"[\",\"\")\n",
        "    df[feature] = df[feature].str.replace(\"]\",\"\")\n",
        "    df[feature] = df[feature].fillna('')\n"
      ]
    },
    {
      "cell_type": "code",
      "execution_count": null,
      "id": "f8168ace-9c9b-4981-9689-783f3bbb1f41",
      "metadata": {
        "colab": {
          "base_uri": "https://localhost:8080/",
          "height": 728
        },
        "id": "f8168ace-9c9b-4981-9689-783f3bbb1f41",
        "outputId": "05ccfa7f-f64c-431e-d337-38a9abdf084e"
      },
      "outputs": [
        {
          "output_type": "execute_result",
          "data": {
            "text/plain": [
              "                                         movies_keywords  \\\n",
              "0      'lover (female)', \"love of one's life\", 'time ...   \n",
              "1      '1970s', 'comeback', 'satire', 'film in film',...   \n",
              "2                                                          \n",
              "3                                  'fairy tale', 'anime'   \n",
              "4                          'biography', 'film directing'   \n",
              "...                                                  ...   \n",
              "14837                                                      \n",
              "14838                                                      \n",
              "14839  'gypsy', 'world war i', 'flashback', 'gore', '...   \n",
              "14840                                        'espionage'   \n",
              "14841  'inquisition', 'female friendship', 'witchcraf...   \n",
              "\n",
              "                                       primaryTitle  \\\n",
              "0                                    Kate & Leopold   \n",
              "1                        The Other Side of the Wind   \n",
              "2                                   Libera, My Love   \n",
              "3                                The Little Mermaid   \n",
              "4      Kenji Mizoguchi: The Life of a Film Director   \n",
              "...                                             ...   \n",
              "14837                                       Herself   \n",
              "14838                                        Jessie   \n",
              "14839                                    The Cursed   \n",
              "14840                                       Le lion   \n",
              "14841                                         Coven   \n",
              "\n",
              "                                    genres                          director  \\\n",
              "0         'Comedy',  'Fantasy',  'Romance'                   'James Mangold'   \n",
              "1                                  'Drama'                    'Orson Welles'   \n",
              "2                                  'Drama'                 'Mauro Bolognini'   \n",
              "3      'Adventure',  'Drama',  'Animation'  'Tomoharu Katsumata', 'Tim Reid'   \n",
              "4              'Biography',  'Documentary'                   'Kaneto Shindô'   \n",
              "...                                    ...                               ...   \n",
              "14837                              'Drama'                  'Phyllida Lloyd'   \n",
              "14838                 'Thriller', 'Horror'                 'Aswani Kumar V.'   \n",
              "14839     'Fantasy',  'Horror',  'Mystery'                      'Sean Ellis'   \n",
              "14840                             'Comedy'          'Ludovic Colbeau-Justin'   \n",
              "14841                   'History', 'Drama'                    'Pablo Agüero'   \n",
              "\n",
              "                                                  actors  \\\n",
              "0      'Hugh Jackman', 'Liev Schreiber', 'Breckin Meyer'   \n",
              "1                     'John Huston', 'Peter Bogdanovich'   \n",
              "2        'Adolfo Celi', 'Philippe Leroy', 'Bruno Cirino'   \n",
              "3                       'Tarô Shigaki', 'Hideki Shibata'   \n",
              "4                                              'unknown'   \n",
              "...                                                  ...   \n",
              "14837                               'Ian Lloyd Anderson'   \n",
              "14838               'Atul Kulkarni', 'Kabir Duhan Singh'   \n",
              "14839                 'Alistair Petrie', 'Boyd Holbrook'   \n",
              "14840    'Dany Boon', 'Samuel Jouy', 'Philippe Katerine'   \n",
              "14841                 'Alex Brendemühl', 'Daniel Fanego'   \n",
              "\n",
              "                                                 actress  \\\n",
              "0                                             'Meg Ryan'   \n",
              "1                         'Susan Strasberg', 'Oja Kodar'   \n",
              "2                                    'Claudia Cardinale'   \n",
              "3                     'Mariko Miyagi', 'Fumie Kashiyama'   \n",
              "4                                              'unknown'   \n",
              "...                                                  ...   \n",
              "14837  'Clare Dunne', 'Molly McCann', \"Ruby Rose O'Hara\"   \n",
              "14838                 'Ashima Narwal', 'Sritha Chandana'   \n",
              "14839                     'Kelly Reilly', 'Roxane Duran'   \n",
              "14840                                       'Anne Serra'   \n",
              "14841                'Garazi Urkola', 'Amaia Aberasturi'   \n",
              "\n",
              "                                               companies  \n",
              "0                           'Konrad Pictures', 'Miramax'  \n",
              "1                    'SACI', \"Les Films de l'Astrophore\"  \n",
              "2                       'Roberto Loyola Cinematografica'  \n",
              "3                                       'Toei Animation'  \n",
              "4                                   'Kindai Eiga Kyokai'  \n",
              "...                                                  ...  \n",
              "14837  'Element Pictures', 'BBC Films', 'Merman', 'Am...  \n",
              "14838                                                     \n",
              "14839  'Piste Rouge', 'LD Entertainment', 'Climax Stu...  \n",
              "14840  'TF1 Studio', 'Monkey Pack Films', 'Pathé', 'T...  \n",
              "14841  'INCAA', 'Instituto de la Cinematografía y de ...  \n",
              "\n",
              "[14842 rows x 7 columns]"
            ],
            "text/html": [
              "\n",
              "  <div id=\"df-a66c4643-3fa8-49b7-8fc7-29550c6c25a2\">\n",
              "    <div class=\"colab-df-container\">\n",
              "      <div>\n",
              "<style scoped>\n",
              "    .dataframe tbody tr th:only-of-type {\n",
              "        vertical-align: middle;\n",
              "    }\n",
              "\n",
              "    .dataframe tbody tr th {\n",
              "        vertical-align: top;\n",
              "    }\n",
              "\n",
              "    .dataframe thead th {\n",
              "        text-align: right;\n",
              "    }\n",
              "</style>\n",
              "<table border=\"1\" class=\"dataframe\">\n",
              "  <thead>\n",
              "    <tr style=\"text-align: right;\">\n",
              "      <th></th>\n",
              "      <th>movies_keywords</th>\n",
              "      <th>primaryTitle</th>\n",
              "      <th>genres</th>\n",
              "      <th>director</th>\n",
              "      <th>actors</th>\n",
              "      <th>actress</th>\n",
              "      <th>companies</th>\n",
              "    </tr>\n",
              "  </thead>\n",
              "  <tbody>\n",
              "    <tr>\n",
              "      <th>0</th>\n",
              "      <td>'lover (female)', \"love of one's life\", 'time ...</td>\n",
              "      <td>Kate &amp; Leopold</td>\n",
              "      <td>'Comedy',  'Fantasy',  'Romance'</td>\n",
              "      <td>'James Mangold'</td>\n",
              "      <td>'Hugh Jackman', 'Liev Schreiber', 'Breckin Meyer'</td>\n",
              "      <td>'Meg Ryan'</td>\n",
              "      <td>'Konrad Pictures', 'Miramax'</td>\n",
              "    </tr>\n",
              "    <tr>\n",
              "      <th>1</th>\n",
              "      <td>'1970s', 'comeback', 'satire', 'film in film',...</td>\n",
              "      <td>The Other Side of the Wind</td>\n",
              "      <td>'Drama'</td>\n",
              "      <td>'Orson Welles'</td>\n",
              "      <td>'John Huston', 'Peter Bogdanovich'</td>\n",
              "      <td>'Susan Strasberg', 'Oja Kodar'</td>\n",
              "      <td>'SACI', \"Les Films de l'Astrophore\"</td>\n",
              "    </tr>\n",
              "    <tr>\n",
              "      <th>2</th>\n",
              "      <td></td>\n",
              "      <td>Libera, My Love</td>\n",
              "      <td>'Drama'</td>\n",
              "      <td>'Mauro Bolognini'</td>\n",
              "      <td>'Adolfo Celi', 'Philippe Leroy', 'Bruno Cirino'</td>\n",
              "      <td>'Claudia Cardinale'</td>\n",
              "      <td>'Roberto Loyola Cinematografica'</td>\n",
              "    </tr>\n",
              "    <tr>\n",
              "      <th>3</th>\n",
              "      <td>'fairy tale', 'anime'</td>\n",
              "      <td>The Little Mermaid</td>\n",
              "      <td>'Adventure',  'Drama',  'Animation'</td>\n",
              "      <td>'Tomoharu Katsumata', 'Tim Reid'</td>\n",
              "      <td>'Tarô Shigaki', 'Hideki Shibata'</td>\n",
              "      <td>'Mariko Miyagi', 'Fumie Kashiyama'</td>\n",
              "      <td>'Toei Animation'</td>\n",
              "    </tr>\n",
              "    <tr>\n",
              "      <th>4</th>\n",
              "      <td>'biography', 'film directing'</td>\n",
              "      <td>Kenji Mizoguchi: The Life of a Film Director</td>\n",
              "      <td>'Biography',  'Documentary'</td>\n",
              "      <td>'Kaneto Shindô'</td>\n",
              "      <td>'unknown'</td>\n",
              "      <td>'unknown'</td>\n",
              "      <td>'Kindai Eiga Kyokai'</td>\n",
              "    </tr>\n",
              "    <tr>\n",
              "      <th>...</th>\n",
              "      <td>...</td>\n",
              "      <td>...</td>\n",
              "      <td>...</td>\n",
              "      <td>...</td>\n",
              "      <td>...</td>\n",
              "      <td>...</td>\n",
              "      <td>...</td>\n",
              "    </tr>\n",
              "    <tr>\n",
              "      <th>14837</th>\n",
              "      <td></td>\n",
              "      <td>Herself</td>\n",
              "      <td>'Drama'</td>\n",
              "      <td>'Phyllida Lloyd'</td>\n",
              "      <td>'Ian Lloyd Anderson'</td>\n",
              "      <td>'Clare Dunne', 'Molly McCann', \"Ruby Rose O'Hara\"</td>\n",
              "      <td>'Element Pictures', 'BBC Films', 'Merman', 'Am...</td>\n",
              "    </tr>\n",
              "    <tr>\n",
              "      <th>14838</th>\n",
              "      <td></td>\n",
              "      <td>Jessie</td>\n",
              "      <td>'Thriller', 'Horror'</td>\n",
              "      <td>'Aswani Kumar V.'</td>\n",
              "      <td>'Atul Kulkarni', 'Kabir Duhan Singh'</td>\n",
              "      <td>'Ashima Narwal', 'Sritha Chandana'</td>\n",
              "      <td></td>\n",
              "    </tr>\n",
              "    <tr>\n",
              "      <th>14839</th>\n",
              "      <td>'gypsy', 'world war i', 'flashback', 'gore', '...</td>\n",
              "      <td>The Cursed</td>\n",
              "      <td>'Fantasy',  'Horror',  'Mystery'</td>\n",
              "      <td>'Sean Ellis'</td>\n",
              "      <td>'Alistair Petrie', 'Boyd Holbrook'</td>\n",
              "      <td>'Kelly Reilly', 'Roxane Duran'</td>\n",
              "      <td>'Piste Rouge', 'LD Entertainment', 'Climax Stu...</td>\n",
              "    </tr>\n",
              "    <tr>\n",
              "      <th>14840</th>\n",
              "      <td>'espionage'</td>\n",
              "      <td>Le lion</td>\n",
              "      <td>'Comedy'</td>\n",
              "      <td>'Ludovic Colbeau-Justin'</td>\n",
              "      <td>'Dany Boon', 'Samuel Jouy', 'Philippe Katerine'</td>\n",
              "      <td>'Anne Serra'</td>\n",
              "      <td>'TF1 Studio', 'Monkey Pack Films', 'Pathé', 'T...</td>\n",
              "    </tr>\n",
              "    <tr>\n",
              "      <th>14841</th>\n",
              "      <td>'inquisition', 'female friendship', 'witchcraf...</td>\n",
              "      <td>Coven</td>\n",
              "      <td>'History', 'Drama'</td>\n",
              "      <td>'Pablo Agüero'</td>\n",
              "      <td>'Alex Brendemühl', 'Daniel Fanego'</td>\n",
              "      <td>'Garazi Urkola', 'Amaia Aberasturi'</td>\n",
              "      <td>'INCAA', 'Instituto de la Cinematografía y de ...</td>\n",
              "    </tr>\n",
              "  </tbody>\n",
              "</table>\n",
              "<p>14842 rows × 7 columns</p>\n",
              "</div>\n",
              "      <button class=\"colab-df-convert\" onclick=\"convertToInteractive('df-a66c4643-3fa8-49b7-8fc7-29550c6c25a2')\"\n",
              "              title=\"Convert this dataframe to an interactive table.\"\n",
              "              style=\"display:none;\">\n",
              "        \n",
              "  <svg xmlns=\"http://www.w3.org/2000/svg\" height=\"24px\"viewBox=\"0 0 24 24\"\n",
              "       width=\"24px\">\n",
              "    <path d=\"M0 0h24v24H0V0z\" fill=\"none\"/>\n",
              "    <path d=\"M18.56 5.44l.94 2.06.94-2.06 2.06-.94-2.06-.94-.94-2.06-.94 2.06-2.06.94zm-11 1L8.5 8.5l.94-2.06 2.06-.94-2.06-.94L8.5 2.5l-.94 2.06-2.06.94zm10 10l.94 2.06.94-2.06 2.06-.94-2.06-.94-.94-2.06-.94 2.06-2.06.94z\"/><path d=\"M17.41 7.96l-1.37-1.37c-.4-.4-.92-.59-1.43-.59-.52 0-1.04.2-1.43.59L10.3 9.45l-7.72 7.72c-.78.78-.78 2.05 0 2.83L4 21.41c.39.39.9.59 1.41.59.51 0 1.02-.2 1.41-.59l7.78-7.78 2.81-2.81c.8-.78.8-2.07 0-2.86zM5.41 20L4 18.59l7.72-7.72 1.47 1.35L5.41 20z\"/>\n",
              "  </svg>\n",
              "      </button>\n",
              "      \n",
              "  <style>\n",
              "    .colab-df-container {\n",
              "      display:flex;\n",
              "      flex-wrap:wrap;\n",
              "      gap: 12px;\n",
              "    }\n",
              "\n",
              "    .colab-df-convert {\n",
              "      background-color: #E8F0FE;\n",
              "      border: none;\n",
              "      border-radius: 50%;\n",
              "      cursor: pointer;\n",
              "      display: none;\n",
              "      fill: #1967D2;\n",
              "      height: 32px;\n",
              "      padding: 0 0 0 0;\n",
              "      width: 32px;\n",
              "    }\n",
              "\n",
              "    .colab-df-convert:hover {\n",
              "      background-color: #E2EBFA;\n",
              "      box-shadow: 0px 1px 2px rgba(60, 64, 67, 0.3), 0px 1px 3px 1px rgba(60, 64, 67, 0.15);\n",
              "      fill: #174EA6;\n",
              "    }\n",
              "\n",
              "    [theme=dark] .colab-df-convert {\n",
              "      background-color: #3B4455;\n",
              "      fill: #D2E3FC;\n",
              "    }\n",
              "\n",
              "    [theme=dark] .colab-df-convert:hover {\n",
              "      background-color: #434B5C;\n",
              "      box-shadow: 0px 1px 3px 1px rgba(0, 0, 0, 0.15);\n",
              "      filter: drop-shadow(0px 1px 2px rgba(0, 0, 0, 0.3));\n",
              "      fill: #FFFFFF;\n",
              "    }\n",
              "  </style>\n",
              "\n",
              "      <script>\n",
              "        const buttonEl =\n",
              "          document.querySelector('#df-a66c4643-3fa8-49b7-8fc7-29550c6c25a2 button.colab-df-convert');\n",
              "        buttonEl.style.display =\n",
              "          google.colab.kernel.accessAllowed ? 'block' : 'none';\n",
              "\n",
              "        async function convertToInteractive(key) {\n",
              "          const element = document.querySelector('#df-a66c4643-3fa8-49b7-8fc7-29550c6c25a2');\n",
              "          const dataTable =\n",
              "            await google.colab.kernel.invokeFunction('convertToInteractive',\n",
              "                                                     [key], {});\n",
              "          if (!dataTable) return;\n",
              "\n",
              "          const docLinkHtml = 'Like what you see? Visit the ' +\n",
              "            '<a target=\"_blank\" href=https://colab.research.google.com/notebooks/data_table.ipynb>data table notebook</a>'\n",
              "            + ' to learn more about interactive tables.';\n",
              "          element.innerHTML = '';\n",
              "          dataTable['output_type'] = 'display_data';\n",
              "          await google.colab.output.renderOutput(dataTable, element);\n",
              "          const docLink = document.createElement('div');\n",
              "          docLink.innerHTML = docLinkHtml;\n",
              "          element.appendChild(docLink);\n",
              "        }\n",
              "      </script>\n",
              "    </div>\n",
              "  </div>\n",
              "  "
            ]
          },
          "metadata": {},
          "execution_count": 9
        }
      ],
      "source": [
        "df[['movies_keywords', 'primaryTitle','genres', 'director','actors','actress','companies']]"
      ]
    },
    {
      "cell_type": "code",
      "execution_count": null,
      "id": "30a20785",
      "metadata": {
        "id": "30a20785"
      },
      "outputs": [],
      "source": [
        "#We combine each features of each rows together\n",
        "def combined_features(row):\n",
        "    return row['movies_keywords']+\" \"+row['genres']+\" \"+row['companies']+\" \"+row['actors']+\" \"+row['actress']+\" \"+row['director']+\" \"+row['primaryTitle']\n",
        "df[\"combined_features\"] = df.apply(combined_features, axis =1)"
      ]
    },
    {
      "cell_type": "code",
      "execution_count": null,
      "id": "dd6c8621",
      "metadata": {
        "colab": {
          "base_uri": "https://localhost:8080/"
        },
        "id": "dd6c8621",
        "outputId": "19b6ad0f-d2e5-4c61-c014-686ae7106fbc"
      },
      "outputs": [
        {
          "output_type": "stream",
          "name": "stdout",
          "text": [
            "Count Matrix: [[0 0 0 ... 0 0 0]\n",
            " [0 0 0 ... 0 0 0]\n",
            " [0 0 0 ... 0 0 0]\n",
            " ...\n",
            " [0 0 0 ... 0 0 0]\n",
            " [0 0 0 ... 0 0 0]\n",
            " [0 0 0 ... 0 0 0]]\n"
          ]
        }
      ],
      "source": [
        "#We use NLP to count each words presence and create binary lists \n",
        "cv = CountVectorizer()\n",
        "\n",
        "#We train and scale our features \n",
        "count_matrix = cv.fit_transform(df[\"combined_features\"])\n",
        "print(\"Count Matrix:\", count_matrix.toarray())"
      ]
    },
    {
      "cell_type": "code",
      "execution_count": null,
      "id": "69ed9409",
      "metadata": {
        "colab": {
          "base_uri": "https://localhost:8080/",
          "height": 1000
        },
        "id": "69ed9409",
        "outputId": "124ff86a-1e01-4cd7-cb61-83e44427d017"
      },
      "outputs": [
        {
          "output_type": "execute_result",
          "data": {
            "text/plain": [
              "        id_tmdb     tconst                                    movies_keywords  \\\n",
              "6825     5206.0  tt0469754                              'office', 'it-expert'   \n",
              "9578    51540.0  tt1499658  'bad boss', 'employee', 'death of father', 'st...   \n",
              "10740  227159.0  tt2170439  'prison', 'kidnapping', 'sex addiction', 'sequ...   \n",
              "11246  151036.0  tt2577622  'cheating', 'emigration', 'visa', 'train', 'fa...   \n",
              "11316  323676.0  tt2702724  'business woman', 'ex-con', 'duringcreditsstin...   \n",
              "12097  295693.0  tt3874544  'baby', 'family relationships', 'sibling rival...   \n",
              "13623  459151.0  tt6932874  'baby', 'boss', 'sequel', 'sibling', 'family',...   \n",
              "13935  513310.0  tt7638348                                        'time loop'   \n",
              "\n",
              "                                               companies  \\\n",
              "6825   'Zentropa Entertainments', 'Memfis Film', 'Slo...   \n",
              "9578              'New Line Cinema', 'Rat Entertainment'   \n",
              "10740  'New Line Cinema', 'BenderSpink', 'RatPac Ente...   \n",
              "11246                                                      \n",
              "11316  'Universal Pictures', 'On the Day', 'Gary Sanc...   \n",
              "12097                             'DreamWorks Animation'   \n",
              "13623       'DreamWorks Animation', 'Universal Pictures'   \n",
              "13935  'WarParty Films', 'Highland Film Group', 'Inge...   \n",
              "\n",
              "                                         movies_websites  movies_popularity  \\\n",
              "6825                 http://www.direktorenfordethele.dk/             10.263   \n",
              "9578   http://horriblebossesmovie.warnerbros.com/inde...             30.626   \n",
              "10740                                                NaN             31.619   \n",
              "11246                                                NaN              1.596   \n",
              "11316                        http://www.thebossfilm.com/             14.436   \n",
              "12097             http://www.dreamworks.com/thebossbaby/             40.770   \n",
              "13623  https://www.dreamworks.com/movies/the-boss-baby-2            517.176   \n",
              "13935  https://www.hulu.com/movie/boss-level-622e81d6...             40.273   \n",
              "\n",
              "                                                  nconst  \\\n",
              "6825   ['nm0001885', 'nm0934668', 'nm0296144', 'nm030...   \n",
              "9578   ['nm0000867', 'nm0711840', 'nm0197855', 'nm000...   \n",
              "10740  ['nm0000867', 'nm0000098', 'nm0197855', 'nm007...   \n",
              "11246  ['nm0756533', 'nm0663967', 'nm0226770', 'nm195...   \n",
              "11316  ['nm0376260', 'nm0002071', 'nm0565250', 'nm022...   \n",
              "12097  ['nm0000285', 'nm0000114', 'nm0569891', 'nm000...   \n",
              "13623  ['nm0000285', 'nm0000285', 'nm0000285', 'nm056...   \n",
              "13935  ['nm0000154', 'nm0000154', 'nm0000154', 'nm000...   \n",
              "\n",
              "                           primaryTitle                                genres  \\\n",
              "6825                 The Boss of It All                              'Comedy'   \n",
              "9578                    Horrible Bosses                    'Comedy',  'Crime'   \n",
              "10740                 Horrible Bosses 2                    'Comedy',  'Crime'   \n",
              "11246                           My Boss                              'Comedy'   \n",
              "11316                          The Boss                              'Comedy'   \n",
              "12097                     The Boss Baby  'Adventure',  'Comedy',  'Animation'   \n",
              "13623  The Boss Baby 2: Family Business  'Adventure',  'Comedy',  'Animation'   \n",
              "13935                        Boss Level     'Mystery',  'Thriller',  'Sci-Fi'   \n",
              "\n",
              "                                           movies_poster  ...  \\\n",
              "6825   https://www.themoviedb.org/t/p/w600_and_h900_b...  ...   \n",
              "9578   https://www.themoviedb.org/t/p/w600_and_h900_b...  ...   \n",
              "10740  https://www.themoviedb.org/t/p/w600_and_h900_b...  ...   \n",
              "11246  https://www.themoviedb.org/t/p/w600_and_h900_b...  ...   \n",
              "11316  https://www.themoviedb.org/t/p/w600_and_h900_b...  ...   \n",
              "12097  https://www.themoviedb.org/t/p/w600_and_h900_b...  ...   \n",
              "13623  https://www.themoviedb.org/t/p/w600_and_h900_b...  ...   \n",
              "13935  https://www.themoviedb.org/t/p/w600_and_h900_b...  ...   \n",
              "\n",
              "                                                 actress  \\\n",
              "6825                                           'unknown'   \n",
              "9578                                           'unknown'   \n",
              "10740                                 'Jennifer Aniston'   \n",
              "11246                         'Seetha', 'Mamta Mohandas'   \n",
              "11316  'Melissa McCarthy', 'Kristen Bell', 'Ella Ande...   \n",
              "12097                                      'Lisa Kudrow'   \n",
              "13623  'Amy Sedaris', 'Amy Sedaris', 'Amy Sedaris', '...   \n",
              "13935  'Michelle Yeoh', 'Michelle Yeoh', 'Michelle Ye...   \n",
              "\n",
              "                                                producer  \\\n",
              "6825   ['Vibeke Windeløv', 'Meta Louise Foldager Søre...   \n",
              "9578                       ['Brett Ratner', 'Jay Stern']   \n",
              "10740                                   ['Chris Bender']   \n",
              "11246                             ['East Coast Vijayan']   \n",
              "11316     ['Chris Henchy', 'Will Ferrell', 'Adam McKay']   \n",
              "12097                                   ['Ramsey Naito']   \n",
              "13623   ['Jeff Hermann', 'Jeff Hermann', 'Jeff Hermann']   \n",
              "13935  ['Randall Emmett', 'Randall Emmett', 'Randall ...   \n",
              "\n",
              "                                             director  \\\n",
              "6825                                 'Lars von Trier'   \n",
              "9578                                    'Seth Gordon'   \n",
              "10740                                   'Sean Anders'   \n",
              "11246                                 'Jeethu Joseph'   \n",
              "11316                                   'Ben Falcone'   \n",
              "12097                                   'Tom McGrath'   \n",
              "13623     'Tom McGrath', 'Tom McGrath', 'Tom McGrath'   \n",
              "13935  'Joe Carnahan', 'Joe Carnahan', 'Joe Carnahan'   \n",
              "\n",
              "                                                  writer startYear  \\\n",
              "6825                                         ['unknown']      2006   \n",
              "9578   ['John Francis Daley', 'Michael Markowitz', 'J...      2011   \n",
              "10740  ['John Francis Daley', 'Michael Markowitz', 'J...      2014   \n",
              "11246                                        ['unknown']      2012   \n",
              "11316                                  ['Steve Mallory']      2016   \n",
              "12097              ['Michael McCullers', 'Marla Frazee']      2017   \n",
              "13623  ['Michael McCullers', 'Michael McCullers', 'Mi...      2021   \n",
              "13935  ['Eddie Borey', 'Eddie Borey', 'Eddie Borey', ...      2020   \n",
              "\n",
              "      runtimeMinutes averageRating numVotes diffusion  \\\n",
              "6825            99.0           6.6    11581        23   \n",
              "9578            98.0           6.9   441017        42   \n",
              "10740          108.0           6.3   169089        43   \n",
              "11246          160.0           6.7     1473         7   \n",
              "11316           99.0           5.4    45680        36   \n",
              "12097           97.0           6.3   122204        49   \n",
              "13623          107.0           5.9    15992       103   \n",
              "13935          100.0           6.8    61499        37   \n",
              "\n",
              "                                       combined_features  \n",
              "6825   'office', 'it-expert' 'Comedy' 'Zentropa Enter...  \n",
              "9578   'bad boss', 'employee', 'death of father', 'st...  \n",
              "10740  'prison', 'kidnapping', 'sex addiction', 'sequ...  \n",
              "11246  'cheating', 'emigration', 'visa', 'train', 'fa...  \n",
              "11316  'business woman', 'ex-con', 'duringcreditsstin...  \n",
              "12097  'baby', 'family relationships', 'sibling rival...  \n",
              "13623  'baby', 'boss', 'sequel', 'sibling', 'family',...  \n",
              "13935  'time loop' 'Mystery',  'Thriller',  'Sci-Fi' ...  \n",
              "\n",
              "[8 rows x 25 columns]"
            ],
            "text/html": [
              "\n",
              "  <div id=\"df-ada02615-a3db-48ae-b71e-738d87b75e47\">\n",
              "    <div class=\"colab-df-container\">\n",
              "      <div>\n",
              "<style scoped>\n",
              "    .dataframe tbody tr th:only-of-type {\n",
              "        vertical-align: middle;\n",
              "    }\n",
              "\n",
              "    .dataframe tbody tr th {\n",
              "        vertical-align: top;\n",
              "    }\n",
              "\n",
              "    .dataframe thead th {\n",
              "        text-align: right;\n",
              "    }\n",
              "</style>\n",
              "<table border=\"1\" class=\"dataframe\">\n",
              "  <thead>\n",
              "    <tr style=\"text-align: right;\">\n",
              "      <th></th>\n",
              "      <th>id_tmdb</th>\n",
              "      <th>tconst</th>\n",
              "      <th>movies_keywords</th>\n",
              "      <th>companies</th>\n",
              "      <th>movies_websites</th>\n",
              "      <th>movies_popularity</th>\n",
              "      <th>nconst</th>\n",
              "      <th>primaryTitle</th>\n",
              "      <th>genres</th>\n",
              "      <th>movies_poster</th>\n",
              "      <th>...</th>\n",
              "      <th>actress</th>\n",
              "      <th>producer</th>\n",
              "      <th>director</th>\n",
              "      <th>writer</th>\n",
              "      <th>startYear</th>\n",
              "      <th>runtimeMinutes</th>\n",
              "      <th>averageRating</th>\n",
              "      <th>numVotes</th>\n",
              "      <th>diffusion</th>\n",
              "      <th>combined_features</th>\n",
              "    </tr>\n",
              "  </thead>\n",
              "  <tbody>\n",
              "    <tr>\n",
              "      <th>6825</th>\n",
              "      <td>5206.0</td>\n",
              "      <td>tt0469754</td>\n",
              "      <td>'office', 'it-expert'</td>\n",
              "      <td>'Zentropa Entertainments', 'Memfis Film', 'Slo...</td>\n",
              "      <td>http://www.direktorenfordethele.dk/</td>\n",
              "      <td>10.263</td>\n",
              "      <td>['nm0001885', 'nm0934668', 'nm0296144', 'nm030...</td>\n",
              "      <td>The Boss of It All</td>\n",
              "      <td>'Comedy'</td>\n",
              "      <td>https://www.themoviedb.org/t/p/w600_and_h900_b...</td>\n",
              "      <td>...</td>\n",
              "      <td>'unknown'</td>\n",
              "      <td>['Vibeke Windeløv', 'Meta Louise Foldager Søre...</td>\n",
              "      <td>'Lars von Trier'</td>\n",
              "      <td>['unknown']</td>\n",
              "      <td>2006</td>\n",
              "      <td>99.0</td>\n",
              "      <td>6.6</td>\n",
              "      <td>11581</td>\n",
              "      <td>23</td>\n",
              "      <td>'office', 'it-expert' 'Comedy' 'Zentropa Enter...</td>\n",
              "    </tr>\n",
              "    <tr>\n",
              "      <th>9578</th>\n",
              "      <td>51540.0</td>\n",
              "      <td>tt1499658</td>\n",
              "      <td>'bad boss', 'employee', 'death of father', 'st...</td>\n",
              "      <td>'New Line Cinema', 'Rat Entertainment'</td>\n",
              "      <td>http://horriblebossesmovie.warnerbros.com/inde...</td>\n",
              "      <td>30.626</td>\n",
              "      <td>['nm0000867', 'nm0711840', 'nm0197855', 'nm000...</td>\n",
              "      <td>Horrible Bosses</td>\n",
              "      <td>'Comedy',  'Crime'</td>\n",
              "      <td>https://www.themoviedb.org/t/p/w600_and_h900_b...</td>\n",
              "      <td>...</td>\n",
              "      <td>'unknown'</td>\n",
              "      <td>['Brett Ratner', 'Jay Stern']</td>\n",
              "      <td>'Seth Gordon'</td>\n",
              "      <td>['John Francis Daley', 'Michael Markowitz', 'J...</td>\n",
              "      <td>2011</td>\n",
              "      <td>98.0</td>\n",
              "      <td>6.9</td>\n",
              "      <td>441017</td>\n",
              "      <td>42</td>\n",
              "      <td>'bad boss', 'employee', 'death of father', 'st...</td>\n",
              "    </tr>\n",
              "    <tr>\n",
              "      <th>10740</th>\n",
              "      <td>227159.0</td>\n",
              "      <td>tt2170439</td>\n",
              "      <td>'prison', 'kidnapping', 'sex addiction', 'sequ...</td>\n",
              "      <td>'New Line Cinema', 'BenderSpink', 'RatPac Ente...</td>\n",
              "      <td>NaN</td>\n",
              "      <td>31.619</td>\n",
              "      <td>['nm0000867', 'nm0000098', 'nm0197855', 'nm007...</td>\n",
              "      <td>Horrible Bosses 2</td>\n",
              "      <td>'Comedy',  'Crime'</td>\n",
              "      <td>https://www.themoviedb.org/t/p/w600_and_h900_b...</td>\n",
              "      <td>...</td>\n",
              "      <td>'Jennifer Aniston'</td>\n",
              "      <td>['Chris Bender']</td>\n",
              "      <td>'Sean Anders'</td>\n",
              "      <td>['John Francis Daley', 'Michael Markowitz', 'J...</td>\n",
              "      <td>2014</td>\n",
              "      <td>108.0</td>\n",
              "      <td>6.3</td>\n",
              "      <td>169089</td>\n",
              "      <td>43</td>\n",
              "      <td>'prison', 'kidnapping', 'sex addiction', 'sequ...</td>\n",
              "    </tr>\n",
              "    <tr>\n",
              "      <th>11246</th>\n",
              "      <td>151036.0</td>\n",
              "      <td>tt2577622</td>\n",
              "      <td>'cheating', 'emigration', 'visa', 'train', 'fa...</td>\n",
              "      <td></td>\n",
              "      <td>NaN</td>\n",
              "      <td>1.596</td>\n",
              "      <td>['nm0756533', 'nm0663967', 'nm0226770', 'nm195...</td>\n",
              "      <td>My Boss</td>\n",
              "      <td>'Comedy'</td>\n",
              "      <td>https://www.themoviedb.org/t/p/w600_and_h900_b...</td>\n",
              "      <td>...</td>\n",
              "      <td>'Seetha', 'Mamta Mohandas'</td>\n",
              "      <td>['East Coast Vijayan']</td>\n",
              "      <td>'Jeethu Joseph'</td>\n",
              "      <td>['unknown']</td>\n",
              "      <td>2012</td>\n",
              "      <td>160.0</td>\n",
              "      <td>6.7</td>\n",
              "      <td>1473</td>\n",
              "      <td>7</td>\n",
              "      <td>'cheating', 'emigration', 'visa', 'train', 'fa...</td>\n",
              "    </tr>\n",
              "    <tr>\n",
              "      <th>11316</th>\n",
              "      <td>323676.0</td>\n",
              "      <td>tt2702724</td>\n",
              "      <td>'business woman', 'ex-con', 'duringcreditsstin...</td>\n",
              "      <td>'Universal Pictures', 'On the Day', 'Gary Sanc...</td>\n",
              "      <td>http://www.thebossfilm.com/</td>\n",
              "      <td>14.436</td>\n",
              "      <td>['nm0376260', 'nm0002071', 'nm0565250', 'nm022...</td>\n",
              "      <td>The Boss</td>\n",
              "      <td>'Comedy'</td>\n",
              "      <td>https://www.themoviedb.org/t/p/w600_and_h900_b...</td>\n",
              "      <td>...</td>\n",
              "      <td>'Melissa McCarthy', 'Kristen Bell', 'Ella Ande...</td>\n",
              "      <td>['Chris Henchy', 'Will Ferrell', 'Adam McKay']</td>\n",
              "      <td>'Ben Falcone'</td>\n",
              "      <td>['Steve Mallory']</td>\n",
              "      <td>2016</td>\n",
              "      <td>99.0</td>\n",
              "      <td>5.4</td>\n",
              "      <td>45680</td>\n",
              "      <td>36</td>\n",
              "      <td>'business woman', 'ex-con', 'duringcreditsstin...</td>\n",
              "    </tr>\n",
              "    <tr>\n",
              "      <th>12097</th>\n",
              "      <td>295693.0</td>\n",
              "      <td>tt3874544</td>\n",
              "      <td>'baby', 'family relationships', 'sibling rival...</td>\n",
              "      <td>'DreamWorks Animation'</td>\n",
              "      <td>http://www.dreamworks.com/thebossbaby/</td>\n",
              "      <td>40.770</td>\n",
              "      <td>['nm0000285', 'nm0000114', 'nm0569891', 'nm000...</td>\n",
              "      <td>The Boss Baby</td>\n",
              "      <td>'Adventure',  'Comedy',  'Animation'</td>\n",
              "      <td>https://www.themoviedb.org/t/p/w600_and_h900_b...</td>\n",
              "      <td>...</td>\n",
              "      <td>'Lisa Kudrow'</td>\n",
              "      <td>['Ramsey Naito']</td>\n",
              "      <td>'Tom McGrath'</td>\n",
              "      <td>['Michael McCullers', 'Marla Frazee']</td>\n",
              "      <td>2017</td>\n",
              "      <td>97.0</td>\n",
              "      <td>6.3</td>\n",
              "      <td>122204</td>\n",
              "      <td>49</td>\n",
              "      <td>'baby', 'family relationships', 'sibling rival...</td>\n",
              "    </tr>\n",
              "    <tr>\n",
              "      <th>13623</th>\n",
              "      <td>459151.0</td>\n",
              "      <td>tt6932874</td>\n",
              "      <td>'baby', 'boss', 'sequel', 'sibling', 'family',...</td>\n",
              "      <td>'DreamWorks Animation', 'Universal Pictures'</td>\n",
              "      <td>https://www.dreamworks.com/movies/the-boss-baby-2</td>\n",
              "      <td>517.176</td>\n",
              "      <td>['nm0000285', 'nm0000285', 'nm0000285', 'nm056...</td>\n",
              "      <td>The Boss Baby 2: Family Business</td>\n",
              "      <td>'Adventure',  'Comedy',  'Animation'</td>\n",
              "      <td>https://www.themoviedb.org/t/p/w600_and_h900_b...</td>\n",
              "      <td>...</td>\n",
              "      <td>'Amy Sedaris', 'Amy Sedaris', 'Amy Sedaris', '...</td>\n",
              "      <td>['Jeff Hermann', 'Jeff Hermann', 'Jeff Hermann']</td>\n",
              "      <td>'Tom McGrath', 'Tom McGrath', 'Tom McGrath'</td>\n",
              "      <td>['Michael McCullers', 'Michael McCullers', 'Mi...</td>\n",
              "      <td>2021</td>\n",
              "      <td>107.0</td>\n",
              "      <td>5.9</td>\n",
              "      <td>15992</td>\n",
              "      <td>103</td>\n",
              "      <td>'baby', 'boss', 'sequel', 'sibling', 'family',...</td>\n",
              "    </tr>\n",
              "    <tr>\n",
              "      <th>13935</th>\n",
              "      <td>513310.0</td>\n",
              "      <td>tt7638348</td>\n",
              "      <td>'time loop'</td>\n",
              "      <td>'WarParty Films', 'Highland Film Group', 'Inge...</td>\n",
              "      <td>https://www.hulu.com/movie/boss-level-622e81d6...</td>\n",
              "      <td>40.273</td>\n",
              "      <td>['nm0000154', 'nm0000154', 'nm0000154', 'nm000...</td>\n",
              "      <td>Boss Level</td>\n",
              "      <td>'Mystery',  'Thriller',  'Sci-Fi'</td>\n",
              "      <td>https://www.themoviedb.org/t/p/w600_and_h900_b...</td>\n",
              "      <td>...</td>\n",
              "      <td>'Michelle Yeoh', 'Michelle Yeoh', 'Michelle Ye...</td>\n",
              "      <td>['Randall Emmett', 'Randall Emmett', 'Randall ...</td>\n",
              "      <td>'Joe Carnahan', 'Joe Carnahan', 'Joe Carnahan'</td>\n",
              "      <td>['Eddie Borey', 'Eddie Borey', 'Eddie Borey', ...</td>\n",
              "      <td>2020</td>\n",
              "      <td>100.0</td>\n",
              "      <td>6.8</td>\n",
              "      <td>61499</td>\n",
              "      <td>37</td>\n",
              "      <td>'time loop' 'Mystery',  'Thriller',  'Sci-Fi' ...</td>\n",
              "    </tr>\n",
              "  </tbody>\n",
              "</table>\n",
              "<p>8 rows × 25 columns</p>\n",
              "</div>\n",
              "      <button class=\"colab-df-convert\" onclick=\"convertToInteractive('df-ada02615-a3db-48ae-b71e-738d87b75e47')\"\n",
              "              title=\"Convert this dataframe to an interactive table.\"\n",
              "              style=\"display:none;\">\n",
              "        \n",
              "  <svg xmlns=\"http://www.w3.org/2000/svg\" height=\"24px\"viewBox=\"0 0 24 24\"\n",
              "       width=\"24px\">\n",
              "    <path d=\"M0 0h24v24H0V0z\" fill=\"none\"/>\n",
              "    <path d=\"M18.56 5.44l.94 2.06.94-2.06 2.06-.94-2.06-.94-.94-2.06-.94 2.06-2.06.94zm-11 1L8.5 8.5l.94-2.06 2.06-.94-2.06-.94L8.5 2.5l-.94 2.06-2.06.94zm10 10l.94 2.06.94-2.06 2.06-.94-2.06-.94-.94-2.06-.94 2.06-2.06.94z\"/><path d=\"M17.41 7.96l-1.37-1.37c-.4-.4-.92-.59-1.43-.59-.52 0-1.04.2-1.43.59L10.3 9.45l-7.72 7.72c-.78.78-.78 2.05 0 2.83L4 21.41c.39.39.9.59 1.41.59.51 0 1.02-.2 1.41-.59l7.78-7.78 2.81-2.81c.8-.78.8-2.07 0-2.86zM5.41 20L4 18.59l7.72-7.72 1.47 1.35L5.41 20z\"/>\n",
              "  </svg>\n",
              "      </button>\n",
              "      \n",
              "  <style>\n",
              "    .colab-df-container {\n",
              "      display:flex;\n",
              "      flex-wrap:wrap;\n",
              "      gap: 12px;\n",
              "    }\n",
              "\n",
              "    .colab-df-convert {\n",
              "      background-color: #E8F0FE;\n",
              "      border: none;\n",
              "      border-radius: 50%;\n",
              "      cursor: pointer;\n",
              "      display: none;\n",
              "      fill: #1967D2;\n",
              "      height: 32px;\n",
              "      padding: 0 0 0 0;\n",
              "      width: 32px;\n",
              "    }\n",
              "\n",
              "    .colab-df-convert:hover {\n",
              "      background-color: #E2EBFA;\n",
              "      box-shadow: 0px 1px 2px rgba(60, 64, 67, 0.3), 0px 1px 3px 1px rgba(60, 64, 67, 0.15);\n",
              "      fill: #174EA6;\n",
              "    }\n",
              "\n",
              "    [theme=dark] .colab-df-convert {\n",
              "      background-color: #3B4455;\n",
              "      fill: #D2E3FC;\n",
              "    }\n",
              "\n",
              "    [theme=dark] .colab-df-convert:hover {\n",
              "      background-color: #434B5C;\n",
              "      box-shadow: 0px 1px 3px 1px rgba(0, 0, 0, 0.15);\n",
              "      filter: drop-shadow(0px 1px 2px rgba(0, 0, 0, 0.3));\n",
              "      fill: #FFFFFF;\n",
              "    }\n",
              "  </style>\n",
              "\n",
              "      <script>\n",
              "        const buttonEl =\n",
              "          document.querySelector('#df-ada02615-a3db-48ae-b71e-738d87b75e47 button.colab-df-convert');\n",
              "        buttonEl.style.display =\n",
              "          google.colab.kernel.accessAllowed ? 'block' : 'none';\n",
              "\n",
              "        async function convertToInteractive(key) {\n",
              "          const element = document.querySelector('#df-ada02615-a3db-48ae-b71e-738d87b75e47');\n",
              "          const dataTable =\n",
              "            await google.colab.kernel.invokeFunction('convertToInteractive',\n",
              "                                                     [key], {});\n",
              "          if (!dataTable) return;\n",
              "\n",
              "          const docLinkHtml = 'Like what you see? Visit the ' +\n",
              "            '<a target=\"_blank\" href=https://colab.research.google.com/notebooks/data_table.ipynb>data table notebook</a>'\n",
              "            + ' to learn more about interactive tables.';\n",
              "          element.innerHTML = '';\n",
              "          dataTable['output_type'] = 'display_data';\n",
              "          await google.colab.output.renderOutput(dataTable, element);\n",
              "          const docLink = document.createElement('div');\n",
              "          docLink.innerHTML = docLinkHtml;\n",
              "          element.appendChild(docLink);\n",
              "        }\n",
              "      </script>\n",
              "    </div>\n",
              "  </div>\n",
              "  "
            ]
          },
          "metadata": {},
          "execution_count": 12
        }
      ],
      "source": [
        "df[df.primaryTitle.str.contains('Boss')]"
      ]
    },
    {
      "cell_type": "code",
      "execution_count": null,
      "id": "7bb965d9",
      "metadata": {
        "colab": {
          "base_uri": "https://localhost:8080/"
        },
        "id": "7bb965d9",
        "outputId": "b242d11b-4af6-483f-8bbf-dc9d0d92c3dc"
      },
      "outputs": [
        {
          "output_type": "stream",
          "name": "stdout",
          "text": [
            "['Endings, Beginnings'\n",
            " 'An artist dumps her longtime boyfriend, but her attempt to take a break from dating ends when she quickly finds herself in two passionate romances.'\n",
            " 'https://www.themoviedb.org/t/p/w600_and_h900_bestv2/5yfJDjTp6n8QXN0M9aGCYpqahXZ.jpg'\n",
            " 'http://www.samuelgoldwynfilms.com/endings-beginnings/'\n",
            " \"'Matthew Gray Gubler', 'Sebastian Stan', 'Jamie Dornan'\"\n",
            " \"'Shailene Woodley'\" \"'Drake Doremus'\" \"'Drama'\" 5.6 2019]\n",
            "\n",
            "['White Palace'\n",
            " \"Max Baron is a Jewish advertising executive in his 20s who's still getting over the death of his wife. Nora Baker is a 40-something diner waitress who enjoys the wilder side of life. Mismatched or not, their attraction is instant and smoldering. With time, however, their class and age differences become an obstacle in their relationship, especially since Max can't keep Nora a secret from his Jewish friends and upper-crust associates forever.\"\n",
            " 'https://www.themoviedb.org/t/p/w600_and_h900_bestv2/8H63Gjhfa5f2zkXgEuFA2ThdDJ6.jpg'\n",
            " nan \"'James Spader', 'Jason Alexander'\" \"'Susan Sarandon', 'Kathy Bates'\"\n",
            " \"'Luis Mandoki'\" \"'Drama',  'Romance'\" 6.5 1990]\n",
            "\n",
            "['Romeo + Juliet'\n",
            " \"In director Baz Luhrmann's contemporary take on William Shakespeare's classic tragedy, the Montagues and Capulets have moved their ongoing feud to the sweltering suburb of Verona Beach, where Romeo and Juliet fall in love and secretly wed. Though the film is visually modern, the bard's dialogue remains.\"\n",
            " 'https://www.themoviedb.org/t/p/w600_and_h900_bestv2/zWLZEUE0jrTiLhWQVh8NOJRwIU9.jpg'\n",
            " 'http://www.romeoandjuliet.com'\n",
            " \"'Leonardo DiCaprio', 'John Leguizamo', 'Harold Perrineau'\"\n",
            " \"'Claire Danes'\" \"'Baz Luhrmann'\" \"'Drama',  'Romance'\" 6.8 1996]\n",
            "\n",
            "['Iris'\n",
            " \"True story of the lifelong romance between novelist Iris Murdoch and her husband John Bayley, from their student days through her battle with Alzheimer's disease.\"\n",
            " 'https://www.themoviedb.org/t/p/w600_and_h900_bestv2/yheTJ4f7Qlw96GdBjSj6FidvEZg.jpg'\n",
            " nan \"'Jim Broadbent', 'Hugh Bonneville'\" \"'Judi Dench', 'Kate Winslet'\"\n",
            " \"'Richard Eyre'\" \"'Biography',  'Drama',  'Romance'\" 7.0 2001]\n",
            "\n"
          ]
        }
      ],
      "source": [
        "#We create the recommandation system function\n",
        "movie_user_likes = \"Titanic\"\n",
        "\n",
        "#We find the index with the title entered by the consumer\n",
        "def get_index_from_title(primaryTitle):\n",
        "    return df[df.primaryTitle == primaryTitle].index.values[0]\n",
        "movie_index = get_index_from_title(movie_user_likes)\n",
        "\n",
        "#We use the index to create a list of similar movies with cosine_sim function which will compare the binary lists\n",
        "cosine_sim = cosine_similarity(count_matrix)\n",
        "similar_movies = list(enumerate(cosine_sim[movie_index]))\n",
        "\n",
        "#We sort by the best scores\n",
        "sorted_similar_movies = sorted(similar_movies, key=lambda x:x[1], reverse=True)\n",
        "\n",
        "#We display the results\n",
        "def get_title_from_index(index):\n",
        "    return df[df.index == index][[\"primaryTitle\",'movies_overview','movies_poster','movies_websites','actors','actress','director','genres','averageRating','startYear']].values[0]\n",
        "i=0\n",
        "\n",
        "#We don't want to display the nearest neigbour which is actually the movie the consumer typed\n",
        "for movie in sorted_similar_movies[0:]:\n",
        "  if movie[0] != movie_index:\n",
        "      print(get_title_from_index(movie[0]))\n",
        "      i=i+1\n",
        "      #We fix the number of recommandations we want to display\n",
        "      print()\n",
        "      if i>3:\n",
        "          break"
      ]
    },
    {
      "cell_type": "markdown",
      "id": "562e1f8b",
      "metadata": {
        "id": "562e1f8b"
      },
      "source": [
        "Next steps :\n",
        "* Recommandations based on director only\n",
        "* Recommandations based on companies only\n",
        "* Recommandations based on actors/actress only\n",
        "* Split in two df : movies / anime or three df / vintage ?\n",
        "* Tenter du NLP sur la colonne overview et primaryTitle"
      ]
    },
    {
      "cell_type": "markdown",
      "id": "7767c495-78de-45e6-9453-5930035c9d57",
      "metadata": {
        "id": "7767c495-78de-45e6-9453-5930035c9d57"
      },
      "source": [
        "# Recommandations based on director only"
      ]
    },
    {
      "cell_type": "code",
      "execution_count": null,
      "id": "5682d8a5-82dc-48b4-bf05-ca7a3c4e854c",
      "metadata": {
        "id": "5682d8a5-82dc-48b4-bf05-ca7a3c4e854c"
      },
      "outputs": [],
      "source": [
        "#We combine each features of each rows together\n",
        "def combined_features(row):\n",
        "    return row['director']\n",
        "df[\"combined_features_director\"] = df.apply(combined_features, axis =1)"
      ]
    },
    {
      "cell_type": "code",
      "execution_count": null,
      "id": "df421a20-08b5-4f06-8fd0-fa2f109ef68c",
      "metadata": {
        "colab": {
          "base_uri": "https://localhost:8080/"
        },
        "id": "df421a20-08b5-4f06-8fd0-fa2f109ef68c",
        "outputId": "3619ef72-f102-4769-f0a7-5f173f89379c"
      },
      "outputs": [
        {
          "output_type": "stream",
          "name": "stdout",
          "text": [
            "Count Matrix: [[0 0 0 ... 0 0 0]\n",
            " [0 0 0 ... 0 0 0]\n",
            " [0 0 0 ... 0 0 0]\n",
            " ...\n",
            " [0 0 0 ... 0 0 0]\n",
            " [0 0 0 ... 0 0 0]\n",
            " [0 0 0 ... 0 0 0]]\n"
          ]
        }
      ],
      "source": [
        "#We use NLP to count each words presence and create binary lists \n",
        "cv = CountVectorizer()\n",
        "\n",
        "#We train and scale our features \n",
        "count_matrix1 = cv.fit_transform(df[\"combined_features_director\"])\n",
        "print(\"Count Matrix:\", count_matrix1.toarray())"
      ]
    },
    {
      "cell_type": "code",
      "execution_count": null,
      "id": "5386cfb3-a1e9-4b0d-8708-f349dc50e7d8",
      "metadata": {
        "colab": {
          "base_uri": "https://localhost:8080/"
        },
        "id": "5386cfb3-a1e9-4b0d-8708-f349dc50e7d8",
        "outputId": "4a229b6f-7d92-48a8-8652-056e6786e42a"
      },
      "outputs": [
        {
          "output_type": "stream",
          "name": "stdout",
          "text": [
            "['Aliens'\n",
            " \"When Ripley's lifepod is found by a salvage crew over 50 years later, she finds that terra-formers are on the very planet they found the alien species. When the company sends a family of colonists out to investigate her story—all contact is lost with the planet and colonists. They enlist Ripley and the colonial marines to return and search for answers.\"\n",
            " 'https://www.themoviedb.org/t/p/w600_and_h900_bestv2/r1x5JGpyqZU8PYhbs4UcrO1Xb6x.jpg'\n",
            " 'https://www.20thcenturystudios.com/movies/aliens'\n",
            " \"'Michael Biehn', 'Michael Biehn', 'Michael Biehn', 'Michael Biehn', 'Michael Biehn', 'Michael Biehn', 'Michael Biehn', 'Paul Reiser', 'Paul Reiser', 'Paul Reiser', 'Paul Reiser', 'Paul Reiser', 'Paul Reiser', 'Paul Reiser'\"\n",
            " \"'Sigourney Weaver', 'Sigourney Weaver', 'Sigourney Weaver', 'Sigourney Weaver', 'Sigourney Weaver', 'Sigourney Weaver', 'Sigourney Weaver', 'Carrie Henn', 'Carrie Henn', 'Carrie Henn', 'Carrie Henn', 'Carrie Henn', 'Carrie Henn', 'Carrie Henn'\"\n",
            " \"'James Cameron', 'James Cameron', 'James Cameron', 'James Cameron', 'James Cameron', 'James Cameron', 'James Cameron'\"\n",
            " \" 'Adventure', 'Action',  'Sci-Fi'\" 8.4 1986]\n",
            "\n",
            "['The Terminator'\n",
            " 'In the post-apocalyptic future, reigning tyrannical supercomputers teleport a cyborg assassin known as the \"Terminator\" back to 1984 to kill Sarah Connor, whose unborn son is destined to lead insurgents against 21st century mechanical hegemony. Meanwhile, the human-resistance movement dispatches a lone warrior to safeguard Sarah. Can he stop the virtually indestructible killing machine?'\n",
            " 'https://www.themoviedb.org/t/p/w600_and_h900_bestv2/qvktm0BHcnmDpul4Hz01GIazWPr.jpg'\n",
            " 'https://www.20thcenturystudios.com/movies/theterminator'\n",
            " \"'Arnold Schwarzenegger', 'Arnold Schwarzenegger', 'Paul Winfield', 'Paul Winfield', 'Michael Biehn', 'Michael Biehn'\"\n",
            " \"'Linda Hamilton', 'Linda Hamilton'\" \"'James Cameron', 'James Cameron'\"\n",
            " \"'Action',  'Sci-Fi'\" 8.1 1984]\n",
            "\n",
            "['The Abyss'\n",
            " \"A civilian oil rig crew is recruited to conduct a search and rescue effort when a nuclear submarine mysteriously sinks. One diver soon finds himself on a spectacular odyssey 25,000 feet below the ocean's surface where he confronts a mysterious force that has the power to change the world or destroy it.\"\n",
            " 'https://www.themoviedb.org/t/p/w600_and_h900_bestv2/jel2BuDv7Bq4fuv2pUrTfiBm69o.jpg'\n",
            " nan \"'Michael Biehn', 'Leo Burmester', 'Ed Harris'\"\n",
            " \"'Mary Elizabeth Mastrantonio'\" \"'James Cameron'\"\n",
            " \" 'Mystery', 'Adventure',  'Drama'\" 7.5 1989]\n",
            "\n",
            "['Terminator 2: Judgment Day'\n",
            " 'Nearly 10 years have passed since Sarah Connor was targeted for termination by a cyborg from the future. Now her son, John, the future leader of the resistance, is the target for a newer, more deadly terminator. Once again, the resistance has managed to send a protector back to attempt to save John and his mother Sarah.'\n",
            " 'https://www.themoviedb.org/t/p/w600_and_h900_bestv2/weVXMD5QBGeQil4HEATZqAkXeEc.jpg'\n",
            " 'https://www.lionsgate.com/movies/terminator-2-judgment-day'\n",
            " \"'Arnold Schwarzenegger', 'Arnold Schwarzenegger', 'Robert Patrick', 'Robert Patrick', 'Edward Furlong', 'Edward Furlong'\"\n",
            " \"'Linda Hamilton', 'Linda Hamilton'\" \"'James Cameron', 'James Cameron'\"\n",
            " \"'Action',  'Sci-Fi'\" 8.6 1991]\n",
            "\n"
          ]
        }
      ],
      "source": [
        "#We create the recommandation system function\n",
        "movie_user_likes = \"Titanic\"\n",
        "\n",
        "#We find the index with the title entered by the consumer\n",
        "def get_index_from_title(primaryTitle):\n",
        "    return df[df.primaryTitle == primaryTitle].index.values[0]\n",
        "movie_index = get_index_from_title(movie_user_likes)\n",
        "\n",
        "#We use the index to create a list of similar movies with cosine_sim function which will compare the binary lists\n",
        "cosine_sim = cosine_similarity(count_matrix1)\n",
        "similar_movies = list(enumerate(cosine_sim[movie_index]))\n",
        "\n",
        "#We sort by the best scores\n",
        "sorted_similar_movies = sorted(similar_movies, key=lambda x:x[1], reverse=True)\n",
        "\n",
        "#We display the results\n",
        "def get_title_from_index(index):\n",
        "    return df[df.index == index][[\"primaryTitle\",'movies_overview','movies_poster','movies_websites','actors','actress','director','genres','averageRating','startYear']].values[0]\n",
        "i=0\n",
        "\n",
        "#We don't want to display the nearest neigbour which is actually the movie the consumer typed\n",
        "for movie in sorted_similar_movies[0:]:\n",
        "    if movie[0] != movie_index:\n",
        "        print(get_title_from_index(movie[0]))\n",
        "        i=i+1\n",
        "        #We fix the number of recommandations we want to display\n",
        "        print()\n",
        "        if i>3:\n",
        "            break"
      ]
    },
    {
      "cell_type": "code",
      "execution_count": null,
      "id": "754c4ecb-537c-47b6-893c-4704b0c73688",
      "metadata": {
        "colab": {
          "base_uri": "https://localhost:8080/"
        },
        "id": "754c4ecb-537c-47b6-893c-4704b0c73688",
        "outputId": "76addef4-942a-430d-cb61-2236af91cd17"
      },
      "outputs": [
        {
          "output_type": "execute_result",
          "data": {
            "text/plain": [
              "Index(['id_tmdb', 'tconst', 'movies_keywords', 'companies', 'movies_websites',\n",
              "       'movies_popularity', 'nconst', 'primaryTitle', 'genres',\n",
              "       'movies_poster', 'movies_budget', 'movies_overview', 'movies_revenue',\n",
              "       'iso_global', 'actors', 'actress', 'producer', 'director', 'writer',\n",
              "       'startYear', 'runtimeMinutes', 'averageRating', 'numVotes', 'diffusion',\n",
              "       'combined_features', 'combined_features_director'],\n",
              "      dtype='object')"
            ]
          },
          "metadata": {},
          "execution_count": 17
        }
      ],
      "source": [
        "df.columns"
      ]
    },
    {
      "cell_type": "markdown",
      "source": [
        "# Recommandations based on companies only"
      ],
      "metadata": {
        "id": "cROQCljLqUa3"
      },
      "id": "cROQCljLqUa3"
    },
    {
      "cell_type": "code",
      "source": [
        "#We combine each features of each rows together\n",
        "def combined_features(row):\n",
        "    return row['companies']\n",
        "df[\"combined_features_companies\"] = df.apply(combined_features, axis =1)"
      ],
      "metadata": {
        "id": "dAK4KLVOqWz2"
      },
      "id": "dAK4KLVOqWz2",
      "execution_count": null,
      "outputs": []
    },
    {
      "cell_type": "code",
      "source": [
        "#We use NLP to count each words presence and create binary lists \n",
        "cv = CountVectorizer()\n",
        "\n",
        "#We train and scale our features \n",
        "count_matrix2 = cv.fit_transform(df[\"combined_features_companies\"])\n",
        "print(\"Count Matrix:\", count_matrix2.toarray())"
      ],
      "metadata": {
        "colab": {
          "base_uri": "https://localhost:8080/"
        },
        "id": "Zz8zVkwFvkih",
        "outputId": "489eab86-d0f1-4cca-f852-a092530f5669"
      },
      "id": "Zz8zVkwFvkih",
      "execution_count": null,
      "outputs": [
        {
          "output_type": "stream",
          "name": "stdout",
          "text": [
            "Count Matrix: [[0 0 0 ... 0 0 0]\n",
            " [0 0 0 ... 0 0 0]\n",
            " [0 0 0 ... 0 0 0]\n",
            " ...\n",
            " [0 0 0 ... 0 0 0]\n",
            " [0 0 0 ... 0 0 0]\n",
            " [0 0 0 ... 0 0 0]]\n"
          ]
        }
      ]
    },
    {
      "cell_type": "code",
      "source": [
        "#We create the recommandation system function\n",
        "movie_user_likes = \"Titanic\"\n",
        "\n",
        "#We find the index with the title entered by the consumer\n",
        "def get_index_from_title(primaryTitle):\n",
        "    return df[df.primaryTitle == primaryTitle].index.values[0]\n",
        "movie_index = get_index_from_title(movie_user_likes)\n",
        "\n",
        "#We use the index to create a list of similar movies with cosine_sim function which will compare the binary lists\n",
        "cosine_sim = cosine_similarity(count_matrix2)\n",
        "similar_movies = list(enumerate(cosine_sim[movie_index]))\n",
        "\n",
        "#We sort by the best scores\n",
        "sorted_similar_movies = sorted(similar_movies, key=lambda x:x[1], reverse=True)\n",
        "\n",
        "#We display the results\n",
        "def get_title_from_index(index):\n",
        "    return df[df.index == index][[\"primaryTitle\",'movies_overview','companies','movies_poster','movies_websites','actors','actress','director','genres','averageRating','startYear']].values[0]\n",
        "i=0\n",
        "\n",
        "#We don't want to display the nearest neigbour which is actually the movie the consumer typed\n",
        "for movie in sorted_similar_movies[0:]:\n",
        "    if movie[0] != movie_index:\n",
        "        print(get_title_from_index(movie[0]))\n",
        "        i=i+1\n",
        "        #We fix the number of recommandations we want to display\n",
        "        print()\n",
        "        if i>3:\n",
        "            break"
      ],
      "metadata": {
        "colab": {
          "base_uri": "https://localhost:8080/"
        },
        "id": "tnd_ckHRvsn5",
        "outputId": "49e799ca-04fd-4b03-ddec-4d287a907fa0"
      },
      "id": "tnd_ckHRvsn5",
      "execution_count": null,
      "outputs": [
        {
          "output_type": "stream",
          "name": "stdout",
          "text": [
            "['True Lies'\n",
            " 'A fearless, globe-trotting, terrorist-battling secret agent has his life turned upside down when he discovers his wife might be having an affair with a used car salesman while terrorists smuggle nuclear war heads into the United States.'\n",
            " \"'Lightstorm Entertainment', '20th Century Fox'\"\n",
            " 'https://www.themoviedb.org/t/p/w600_and_h900_bestv2/pweFTnzzTfGK68woSVkiTgjLzWm.jpg'\n",
            " nan \"'Arnold Schwarzenegger', 'Bill Paxton', 'Tom Arnold'\"\n",
            " \"'Jamie Lee Curtis'\" \"'James Cameron'\" \" 'Thriller', 'Action',  'Comedy'\"\n",
            " 7.3 1994]\n",
            "\n",
            "['Strange Days'\n",
            " 'Set in the year 1999 during the last days of the old millennium, the movie tells the story of Lenny Nero, an ex-cop who now deals with data-discs containing recorded memories and emotions. One day he receives a disc which contains the memories of a murderer killing a prostitute. Lenny investigates and is pulled deeper and deeper in a whirl of blackmail, murder and rape. Will he survive and solve the case?'\n",
            " \"'Lightstorm Entertainment', '20th Century Fox'\"\n",
            " 'https://www.themoviedb.org/t/p/w600_and_h900_bestv2/rY5BrDRcYAKE0BYmmT66YG6Uy5Q.jpg'\n",
            " 'http://www.strange-days.com' \"'Tom Sizemore', 'Ralph Fiennes'\"\n",
            " \"'Juliette Lewis', 'Angela Bassett'\" \"'Kathryn Bigelow'\"\n",
            " \" 'Drama', 'Crime',  'Sci-Fi'\" 7.2 1995]\n",
            "\n",
            "['Solaris'\n",
            " 'A troubled psychologist is sent to investigate the crew of an isolated research station orbiting a bizarre planet.'\n",
            " \"'Lightstorm Entertainment', '20th Century Fox'\"\n",
            " 'https://www.themoviedb.org/t/p/w600_and_h900_bestv2/drdrB1hEZmzFlK1xtW5HMxK3LUJ.jpg'\n",
            " nan \"'George Clooney', 'Ulrich Tukur'\"\n",
            " \"'Natascha McElhone', 'Viola Davis'\" \"'Steven Soderbergh'\"\n",
            " \" 'Mystery', 'Drama',  'Romance'\" 6.2 2002]\n",
            "\n",
            "['Kung Pow: Enter the Fist'\n",
            " 'A movie within a movie, created to spoof the martial arts genre. Writer/director Steve Oedekerk uses contemporary characters and splices them into a 1970s kung-fu film, weaving the new and old together.  As the main character, The Chosen One, Oedekerk sets off to avenge the deaths of his parents at the hands of kung-fu legend Master Pain. Along the way he encounters some strange characters.'\n",
            " \"'O Entertainment', '20th Century Fox'\"\n",
            " 'https://www.themoviedb.org/t/p/w600_and_h900_bestv2/8twRIXhh7EoLZWcihWRKJEgdAXq.jpg'\n",
            " nan \"'Steve Oedekerk', 'Leo Lee'\" \"'unknown'\" \"'unknown'\"\n",
            " \"'Action',  'Comedy'\" 6.2 2002]\n",
            "\n"
          ]
        }
      ]
    },
    {
      "cell_type": "markdown",
      "source": [
        "# Recommandations based on actors/actress only"
      ],
      "metadata": {
        "id": "eMSAA0hsxA5Y"
      },
      "id": "eMSAA0hsxA5Y"
    },
    {
      "cell_type": "code",
      "source": [
        "def combined_features(row):\n",
        "        return row['actors']+\" \"+row['actress']\n",
        "df[\"combined_features_actors_actress\"] = df.apply(combined_features, axis =1)\n",
        "cv = CountVectorizer()\n",
        "#We train and scale our features \n",
        "count_matrix3 = cv.fit_transform(df[\"combined_features_actors_actress\"])\n",
        "print(\"Count Matrix:\", count_matrix3.toarray())\n",
        "#We create the recommandation system function\n",
        "movie_user_likes = \"Titanic\"\n",
        "\n",
        "#We find the index with the title entered by the consumer\n",
        "def get_index_from_title(primaryTitle):\n",
        "    return df[df.primaryTitle == primaryTitle].index.values[0]\n",
        "movie_index = get_index_from_title(movie_user_likes)\n",
        "\n",
        "#We use the index to create a list of similar movies with cosine_sim function which will compare the binary lists\n",
        "cosine_sim = cosine_similarity(count_matrix3)\n",
        "similar_movies = list(enumerate(cosine_sim[movie_index]))\n",
        "\n",
        "#We sort by the best scores\n",
        "sorted_similar_movies = sorted(similar_movies, key=lambda x:x[1], reverse=True)\n",
        "\n",
        "#We display the results\n",
        "def get_title_from_index(index):\n",
        "    return df[df.index == index][[\"primaryTitle\",'movies_overview','companies','movies_poster','movies_websites','actors','actress','director','genres','averageRating','startYear']].values[0]\n",
        "i=0\n",
        "\n",
        "#We don't want to display the nearest neigbour which is actually the movie the consumer typed\n",
        "for movie in sorted_similar_movies[0:]:\n",
        "    if movie[0] != movie_index:\n",
        "        print(get_title_from_index(movie[0]))\n",
        "        i=i+1\n",
        "        #We fix the number of recommandations we want to display\n",
        "        print()\n",
        "        if i>3:\n",
        "            break"
      ],
      "metadata": {
        "colab": {
          "base_uri": "https://localhost:8080/"
        },
        "id": "d5BgLpQM-jKw",
        "outputId": "585659c7-2a33-4bac-ba2b-39df4b9c2f4f"
      },
      "id": "d5BgLpQM-jKw",
      "execution_count": null,
      "outputs": [
        {
          "output_type": "stream",
          "name": "stdout",
          "text": [
            "Count Matrix: [[0 0 0 ... 0 0 0]\n",
            " [0 0 0 ... 0 0 0]\n",
            " [0 0 0 ... 0 0 0]\n",
            " ...\n",
            " [0 0 0 ... 0 0 0]\n",
            " [0 0 0 ... 0 0 0]\n",
            " [0 0 0 ... 0 0 0]]\n",
            "['Revolutionary Road'\n",
            " 'A young couple living in a Connecticut suburb during the mid-1950s struggle to come to terms with their personal problems while trying to raise their two children. Based on a novel by Richard Yates.'\n",
            " \"'Scott Rudin Productions', 'BBC Films', 'Neal Street Productions', 'Evamere Entertainment', 'DreamWorks Pictures', 'Goldcrest'\"\n",
            " 'https://www.themoviedb.org/t/p/w600_and_h900_bestv2/1jYKJEGcgbkEjlKuY94Dv7BVe1P.jpg'\n",
            " nan \"'Leonardo DiCaprio', 'Christopher Fitzgerald', 'Jonathan Roumie'\"\n",
            " \"'Kate Winslet'\" \"'Sam Mendes'\" \"'Drama',  'Romance'\" 7.3 2008]\n",
            "\n",
            "['The Aviator'\n",
            " 'A biopic depicting the life of filmmaker and aviation pioneer Howard Hughes from 1927 to 1947, during which time he became a successful film producer and an aviation magnate, while simultaneously growing more unstable due to severe obsessive-compulsive disorder.'\n",
            " '\\'Miramax\\', \\'Appian Way\\', \\'Forward Pass\\', \\'Cappa Productions\\', \\'Initial Entertainment Group\\', \\'IMF Internationale Medien und Film GmbH & Co. 3. Produktions KG\\', \"Mel\\'s Cite du Cinema\", \\'Warner Bros. Pictures\\''\n",
            " 'https://www.themoviedb.org/t/p/w600_and_h900_bestv2/lx4kWcZc3o9PaNxlQpEJZM17XUI.jpg'\n",
            " nan \"'Leonardo DiCaprio', 'John C. Reilly'\"\n",
            " \"'Kate Beckinsale', 'Cate Blanchett'\" \"'Martin Scorsese'\"\n",
            " \"'Biography',  'Drama'\" 7.5 2004]\n",
            "\n",
            "['A Little Bit of Heaven'\n",
            " \"A guarded woman who finds out she's dying of cancer but, when she meets her match, the threat of falling in love is scarier than death.\"\n",
            " \"'MJW Films', 'Davis Entertainment', 'The Film Department'\"\n",
            " 'https://www.themoviedb.org/t/p/w600_and_h900_bestv2/nEWNdL8hCbXxTspxAVHxqE0ZxFt.jpg'\n",
            " nan \"'Gael García Bernal', 'Peter Dinklage'\"\n",
            " \"'Kathy Bates', 'Kate Hudson'\" \"'Nicole Kassell'\"\n",
            " \"'Comedy',  'Drama',  'Fantasy'\" 6.3 2011]\n",
            "\n",
            "['Bad Santa 2'\n",
            " \"Fueled by cheap whiskey, greed and hatred, Willie Soke teams up with his angry little sidekick, Marcus, to knock off a Chicago charity on Christmas Eve. Along for the ride is chubby and cheery Thurman Merman, a 250-pound ray of sunshine who brings out Willie's sliver of humanity. Issues arise when the pair are joined by Willie's horror story of a mother, who raises the bar for the gang's ambitions, while somehow lowering the standards of criminal behavior.\"\n",
            " \"'Ingenious Media', 'Broad Green Pictures', 'Miramax'\"\n",
            " 'https://www.themoviedb.org/t/p/w600_and_h900_bestv2/xmsEwpA2fSq6IO3sfKrLuIPLHSc.jpg'\n",
            " 'http://www.badsanta2.com/' \"'Tony Cox', 'Billy Bob Thornton'\"\n",
            " \"'Kathy Bates', 'Christina Hendricks'\" \"'Mark Waters'\"\n",
            " \"'Comedy',  'Drama',  'Crime'\" 5.6 2016]\n",
            "\n"
          ]
        }
      ]
    },
    {
      "cell_type": "markdown",
      "source": [
        "# Split in two df : movies / anime or three df / vintage ?"
      ],
      "metadata": {
        "id": "HbvwPzNJABlR"
      },
      "id": "HbvwPzNJABlR"
    },
    {
      "cell_type": "markdown",
      "source": [
        ""
      ],
      "metadata": {
        "id": "9fshMLNiAEMh"
      },
      "id": "9fshMLNiAEMh"
    },
    {
      "cell_type": "markdown",
      "source": [
        "# Tenter du NLP sur la colonne overview et primaryTitle"
      ],
      "metadata": {
        "id": "NBzkrOf5AULV"
      },
      "id": "NBzkrOf5AULV"
    },
    {
      "cell_type": "code",
      "source": [
        "df.columns"
      ],
      "metadata": {
        "colab": {
          "base_uri": "https://localhost:8080/"
        },
        "id": "F8nq5bIWAjgA",
        "outputId": "8204b29d-f265-40bb-e16c-6807f4bff6c4"
      },
      "id": "F8nq5bIWAjgA",
      "execution_count": null,
      "outputs": [
        {
          "output_type": "execute_result",
          "data": {
            "text/plain": [
              "Index(['id_tmdb', 'tconst', 'movies_keywords', 'companies', 'movies_websites',\n",
              "       'movies_popularity', 'nconst', 'primaryTitle', 'genres',\n",
              "       'movies_poster', 'movies_budget', 'movies_overview', 'movies_revenue',\n",
              "       'iso_global', 'actors', 'actress', 'producer', 'director', 'writer',\n",
              "       'startYear', 'runtimeMinutes', 'averageRating', 'numVotes', 'diffusion',\n",
              "       'combined_features', 'combined_features_director',\n",
              "       'combined_features_companies', 'combined_features_actors_actress'],\n",
              "      dtype='object')"
            ]
          },
          "metadata": {},
          "execution_count": 22
        }
      ]
    },
    {
      "cell_type": "code",
      "source": [
        "def combined_features(row):\n",
        "      return row['movies_overview']+\" \"+row['genres']+\" \"+row['companies']+\" \"+row['actors']+\" \"+row['actress']+\" \"+row['director']+\" \"+row['primaryTitle']\n",
        "df[\"combined_features_overview\"] = df.apply(combined_features, axis =1)\n",
        "cv = CountVectorizer()\n",
        "#We train and scale our features \n",
        "count_matrix4 = cv.fit_transform(df[\"combined_features_actors_actress\"])\n",
        "print(\"Count Matrix:\", count_matrix4.toarray())\n",
        "#We create the recommandation system function\n",
        "movie_user_likes = \"Titanic\"\n",
        "\n",
        "#We find the index with the title entered by the consumer\n",
        "def get_index_from_title(primaryTitle):\n",
        "    return df[df.primaryTitle == primaryTitle].index.values[0]\n",
        "movie_index = get_index_from_title(movie_user_likes)\n",
        "\n",
        "#We use the index to create a list of similar movies with cosine_sim function which will compare the binary lists\n",
        "cosine_sim = cosine_similarity(count_matrix4)\n",
        "similar_movies = list(enumerate(cosine_sim[movie_index]))\n",
        "\n",
        "#We sort by the best scores\n",
        "sorted_similar_movies = sorted(similar_movies, key=lambda x:x[1], reverse=True)\n",
        "\n",
        "#We display the results\n",
        "def get_title_from_index(index):\n",
        "    return df[df.index == index][[\"primaryTitle\",'movies_overview','companies','movies_poster','movies_websites','actors','actress','director','genres','averageRating','startYear']].values[0]\n",
        "i=0\n",
        "\n",
        "#We don't want to display the nearest neigbour which is actually the movie the consumer typed\n",
        "for movie in sorted_similar_movies[0:]:\n",
        "    if movie[0] != movie_index:\n",
        "        print(get_title_from_index(movie[0]))\n",
        "        i=i+1\n",
        "        #We fix the number of recommandations we want to display\n",
        "        print()\n",
        "        if i>3:\n",
        "            break"
      ],
      "metadata": {
        "colab": {
          "base_uri": "https://localhost:8080/"
        },
        "id": "fz6589jAAWas",
        "outputId": "7211551f-d657-420e-f4a9-4f63970bea81"
      },
      "id": "fz6589jAAWas",
      "execution_count": null,
      "outputs": [
        {
          "output_type": "stream",
          "name": "stdout",
          "text": [
            "Count Matrix: [[0 0 0 ... 0 0 0]\n",
            " [0 0 0 ... 0 0 0]\n",
            " [0 0 0 ... 0 0 0]\n",
            " ...\n",
            " [0 0 0 ... 0 0 0]\n",
            " [0 0 0 ... 0 0 0]\n",
            " [0 0 0 ... 0 0 0]]\n",
            "['Revolutionary Road'\n",
            " 'A young couple living in a Connecticut suburb during the mid-1950s struggle to come to terms with their personal problems while trying to raise their two children. Based on a novel by Richard Yates.'\n",
            " \"'Scott Rudin Productions', 'BBC Films', 'Neal Street Productions', 'Evamere Entertainment', 'DreamWorks Pictures', 'Goldcrest'\"\n",
            " 'https://www.themoviedb.org/t/p/w600_and_h900_bestv2/1jYKJEGcgbkEjlKuY94Dv7BVe1P.jpg'\n",
            " nan \"'Leonardo DiCaprio', 'Christopher Fitzgerald', 'Jonathan Roumie'\"\n",
            " \"'Kate Winslet'\" \"'Sam Mendes'\" \"'Drama',  'Romance'\" 7.3 2008]\n",
            "\n",
            "['The Aviator'\n",
            " 'A biopic depicting the life of filmmaker and aviation pioneer Howard Hughes from 1927 to 1947, during which time he became a successful film producer and an aviation magnate, while simultaneously growing more unstable due to severe obsessive-compulsive disorder.'\n",
            " '\\'Miramax\\', \\'Appian Way\\', \\'Forward Pass\\', \\'Cappa Productions\\', \\'Initial Entertainment Group\\', \\'IMF Internationale Medien und Film GmbH & Co. 3. Produktions KG\\', \"Mel\\'s Cite du Cinema\", \\'Warner Bros. Pictures\\''\n",
            " 'https://www.themoviedb.org/t/p/w600_and_h900_bestv2/lx4kWcZc3o9PaNxlQpEJZM17XUI.jpg'\n",
            " nan \"'Leonardo DiCaprio', 'John C. Reilly'\"\n",
            " \"'Kate Beckinsale', 'Cate Blanchett'\" \"'Martin Scorsese'\"\n",
            " \"'Biography',  'Drama'\" 7.5 2004]\n",
            "\n",
            "['A Little Bit of Heaven'\n",
            " \"A guarded woman who finds out she's dying of cancer but, when she meets her match, the threat of falling in love is scarier than death.\"\n",
            " \"'MJW Films', 'Davis Entertainment', 'The Film Department'\"\n",
            " 'https://www.themoviedb.org/t/p/w600_and_h900_bestv2/nEWNdL8hCbXxTspxAVHxqE0ZxFt.jpg'\n",
            " nan \"'Gael García Bernal', 'Peter Dinklage'\"\n",
            " \"'Kathy Bates', 'Kate Hudson'\" \"'Nicole Kassell'\"\n",
            " \"'Comedy',  'Drama',  'Fantasy'\" 6.3 2011]\n",
            "\n",
            "['Bad Santa 2'\n",
            " \"Fueled by cheap whiskey, greed and hatred, Willie Soke teams up with his angry little sidekick, Marcus, to knock off a Chicago charity on Christmas Eve. Along for the ride is chubby and cheery Thurman Merman, a 250-pound ray of sunshine who brings out Willie's sliver of humanity. Issues arise when the pair are joined by Willie's horror story of a mother, who raises the bar for the gang's ambitions, while somehow lowering the standards of criminal behavior.\"\n",
            " \"'Ingenious Media', 'Broad Green Pictures', 'Miramax'\"\n",
            " 'https://www.themoviedb.org/t/p/w600_and_h900_bestv2/xmsEwpA2fSq6IO3sfKrLuIPLHSc.jpg'\n",
            " 'http://www.badsanta2.com/' \"'Tony Cox', 'Billy Bob Thornton'\"\n",
            " \"'Kathy Bates', 'Christina Hendricks'\" \"'Mark Waters'\"\n",
            " \"'Comedy',  'Drama',  'Crime'\" 5.6 2016]\n",
            "\n"
          ]
        }
      ]
    },
    {
      "cell_type": "markdown",
      "source": [
        "# overview avec nlp nettoiyage"
      ],
      "metadata": {
        "id": "cHOKK5ntcMi1"
      },
      "id": "cHOKK5ntcMi1"
    },
    {
      "cell_type": "code",
      "source": [
        "# !pip install -U pip setuptools wheel\n",
        "# !pip install -U spacy\n",
        "# !python -m spacy download en_core_web_sm"
      ],
      "metadata": {
        "id": "DRDySjrucbFy"
      },
      "id": "DRDySjrucbFy",
      "execution_count": null,
      "outputs": []
    },
    {
      "cell_type": "code",
      "source": [
        "import nltk\n",
        "nltk.download('popular')\n",
        "import spacy\n",
        "nlp = spacy.load('en_core_web_sm')\n",
        "tokenizer=nltk.RegexpTokenizer(r\"\\w+\")\n",
        "def clean(sentence=\"You are better when I am well.\"):\n",
        "  sent_tokens = nlp(sentence)  \n",
        "  lema_str = ' '.join(word.lemma_ for word in sent_tokens)\n",
        "  lema_str=lema_str.lower()\n",
        "  txt_puntuation=tokenizer.tokenize(lema_str)\n",
        "  tokens_clean = []\n",
        "  for words in txt_puntuation:\n",
        "    if words not in nltk.corpus.stopwords.words(\"english\"):\n",
        "      tokens_clean.append(words)\n",
        "  tokens_str = ' '.join(word for word in tokens_clean)\n",
        "  return tokens_str\n",
        "clean()"
      ],
      "metadata": {
        "colab": {
          "base_uri": "https://localhost:8080/",
          "height": 938
        },
        "id": "kxy9dQqtBEKL",
        "outputId": "b3baeff4-6cb2-48bb-e86b-c81061c31fb1"
      },
      "id": "kxy9dQqtBEKL",
      "execution_count": null,
      "outputs": [
        {
          "output_type": "stream",
          "name": "stdout",
          "text": [
            "[nltk_data] Downloading collection 'popular'\n",
            "[nltk_data]    | \n",
            "[nltk_data]    | Downloading package cmudict to /root/nltk_data...\n",
            "[nltk_data]    |   Unzipping corpora/cmudict.zip.\n",
            "[nltk_data]    | Downloading package gazetteers to /root/nltk_data...\n",
            "[nltk_data]    |   Unzipping corpora/gazetteers.zip.\n",
            "[nltk_data]    | Downloading package genesis to /root/nltk_data...\n",
            "[nltk_data]    |   Unzipping corpora/genesis.zip.\n",
            "[nltk_data]    | Downloading package gutenberg to /root/nltk_data...\n",
            "[nltk_data]    |   Unzipping corpora/gutenberg.zip.\n",
            "[nltk_data]    | Downloading package inaugural to /root/nltk_data...\n",
            "[nltk_data]    |   Unzipping corpora/inaugural.zip.\n",
            "[nltk_data]    | Downloading package movie_reviews to\n",
            "[nltk_data]    |     /root/nltk_data...\n",
            "[nltk_data]    |   Unzipping corpora/movie_reviews.zip.\n",
            "[nltk_data]    | Downloading package names to /root/nltk_data...\n",
            "[nltk_data]    |   Unzipping corpora/names.zip.\n",
            "[nltk_data]    | Downloading package shakespeare to /root/nltk_data...\n",
            "[nltk_data]    |   Unzipping corpora/shakespeare.zip.\n",
            "[nltk_data]    | Downloading package stopwords to /root/nltk_data...\n",
            "[nltk_data]    |   Unzipping corpora/stopwords.zip.\n",
            "[nltk_data]    | Downloading package treebank to /root/nltk_data...\n",
            "[nltk_data]    |   Unzipping corpora/treebank.zip.\n",
            "[nltk_data]    | Downloading package twitter_samples to\n",
            "[nltk_data]    |     /root/nltk_data...\n",
            "[nltk_data]    |   Unzipping corpora/twitter_samples.zip.\n",
            "[nltk_data]    | Downloading package omw to /root/nltk_data...\n",
            "[nltk_data]    |   Unzipping corpora/omw.zip.\n",
            "[nltk_data]    | Downloading package omw-1.4 to /root/nltk_data...\n",
            "[nltk_data]    |   Unzipping corpora/omw-1.4.zip.\n",
            "[nltk_data]    | Downloading package wordnet to /root/nltk_data...\n",
            "[nltk_data]    |   Unzipping corpora/wordnet.zip.\n",
            "[nltk_data]    | Downloading package wordnet2021 to /root/nltk_data...\n",
            "[nltk_data]    |   Unzipping corpora/wordnet2021.zip.\n",
            "[nltk_data]    | Downloading package wordnet31 to /root/nltk_data...\n",
            "[nltk_data]    |   Unzipping corpora/wordnet31.zip.\n",
            "[nltk_data]    | Downloading package wordnet_ic to /root/nltk_data...\n",
            "[nltk_data]    |   Unzipping corpora/wordnet_ic.zip.\n",
            "[nltk_data]    | Downloading package words to /root/nltk_data...\n",
            "[nltk_data]    |   Unzipping corpora/words.zip.\n",
            "[nltk_data]    | Downloading package maxent_ne_chunker to\n",
            "[nltk_data]    |     /root/nltk_data...\n",
            "[nltk_data]    |   Unzipping chunkers/maxent_ne_chunker.zip.\n",
            "[nltk_data]    | Downloading package punkt to /root/nltk_data...\n",
            "[nltk_data]    |   Unzipping tokenizers/punkt.zip.\n",
            "[nltk_data]    | Downloading package snowball_data to\n",
            "[nltk_data]    |     /root/nltk_data...\n",
            "[nltk_data]    | Downloading package averaged_perceptron_tagger to\n",
            "[nltk_data]    |     /root/nltk_data...\n",
            "[nltk_data]    |   Unzipping taggers/averaged_perceptron_tagger.zip.\n",
            "[nltk_data]    | \n",
            "[nltk_data]  Done downloading collection popular\n"
          ]
        },
        {
          "output_type": "execute_result",
          "data": {
            "text/plain": [
              "'pron well pron well'"
            ],
            "application/vnd.google.colaboratory.intrinsic+json": {
              "type": "string"
            }
          },
          "metadata": {},
          "execution_count": 25
        }
      ]
    },
    {
      "cell_type": "code",
      "source": [
        "df['clean_overview']=df['movies_overview'].apply(lambda x: clean(x))\n",
        "df['clean_overview']"
      ],
      "metadata": {
        "colab": {
          "base_uri": "https://localhost:8080/"
        },
        "id": "kaLJxzr2F9UN",
        "outputId": "28adcaeb-d5fb-41cb-bebf-bba40688cfa1"
      },
      "id": "kaLJxzr2F9UN",
      "execution_count": null,
      "outputs": [
        {
          "output_type": "execute_result",
          "data": {
            "text/plain": [
              "0        pron scientist ex boyfriend discover portal tr...\n",
              "1        surround fan skeptic grizzle director j j jake...\n",
              "2        director mauro bolognini insert story fascist ...\n",
              "3        story beautiful mermaid give kingdom pron belo...\n",
              "4        kenji mizoguchi life film director aru eiga ka...\n",
              "                               ...                        \n",
              "14837    struggle provide pron daughter safe happy home...\n",
              "14838    set abandon house film follow team professiona...\n",
              "14839    late 19th century brutal land baron slaughter ...\n",
              "14840    psychiatric hospital patient pretend crazy cha...\n",
              "14841    french basque country year 1609 man small fish...\n",
              "Name: clean_overview, Length: 14842, dtype: object"
            ]
          },
          "metadata": {},
          "execution_count": 26
        }
      ]
    },
    {
      "cell_type": "code",
      "source": [
        "features = ['clean_overview']\n",
        "\n",
        "#We clean them\n",
        "for feature in features:\n",
        "    df[feature] = df[feature].str.replace(\"[\",\"\")\n",
        "    df[feature] = df[feature].str.replace(\"]\",\"\")\n",
        "    df[feature] = df[feature].fillna('')"
      ],
      "metadata": {
        "colab": {
          "base_uri": "https://localhost:8080/"
        },
        "id": "sxpXTN0BextK",
        "outputId": "e66067ce-eba0-4222-9b61-496cf03e1737"
      },
      "id": "sxpXTN0BextK",
      "execution_count": null,
      "outputs": [
        {
          "output_type": "stream",
          "name": "stderr",
          "text": [
            "/usr/local/lib/python3.7/dist-packages/ipykernel_launcher.py:5: FutureWarning: The default value of regex will change from True to False in a future version. In addition, single character regular expressions will *not* be treated as literal strings when regex=True.\n",
            "  \"\"\"\n",
            "/usr/local/lib/python3.7/dist-packages/ipykernel_launcher.py:6: FutureWarning: The default value of regex will change from True to False in a future version. In addition, single character regular expressions will *not* be treated as literal strings when regex=True.\n",
            "  \n"
          ]
        }
      ]
    },
    {
      "cell_type": "code",
      "source": [
        "def combined_features(row):\n",
        "      return row['clean_overview']+\" \"+row['genres']+\" \"+row['companies']+\" \"+row['actors']+\" \"+row['actress']+\" \"+row['director']+\" \"+row['primaryTitle']\n",
        "df[\"combined_features_overview_cleaned\"] = df.apply(combined_features, axis =1)\n",
        "cv = CountVectorizer()\n",
        "#We train and scale our features \n",
        "count_matrix5 = cv.fit_transform(df[\"combined_features_actors_actress\"])\n",
        "print(\"Count Matrix:\", count_matrix5.toarray())\n",
        "#We create the recommandation system function\n",
        "movie_user_likes = \"Titanic\"\n",
        "\n",
        "#We find the index with the title entered by the consumer\n",
        "def get_index_from_title(primaryTitle):\n",
        "    return df[df.primaryTitle == primaryTitle].index.values[0]\n",
        "movie_index = get_index_from_title(movie_user_likes)\n",
        "\n",
        "#We use the index to create a list of similar movies with cosine_sim function which will compare the binary lists\n",
        "cosine_sim = cosine_similarity(count_matrix5)\n",
        "similar_movies = list(enumerate(cosine_sim[movie_index]))\n",
        "\n",
        "#We sort by the best scores\n",
        "sorted_similar_movies = sorted(similar_movies, key=lambda x:x[1], reverse=True)\n",
        "\n",
        "#We display the results\n",
        "def get_title_from_index(index):\n",
        "    return df[df.index == index][[\"primaryTitle\",'movies_overview','companies','movies_poster','movies_websites','actors','actress','director','genres','averageRating','startYear']].values[0]\n",
        "i=0\n",
        "\n",
        "#We don't want to display the nearest neigbour which is actually the movie the consumer typed\n",
        "for movie in sorted_similar_movies[0:]:\n",
        "    if movie[0] != movie_index:\n",
        "        print(get_title_from_index(movie[0]))\n",
        "        i=i+1\n",
        "        #We fix the number of recommandations we want to display\n",
        "        print()\n",
        "        if i>3:\n",
        "            break"
      ],
      "metadata": {
        "colab": {
          "base_uri": "https://localhost:8080/"
        },
        "id": "lvEeMh50c2mF",
        "outputId": "00e14f53-2767-47ec-cae2-48d8a73e5f33"
      },
      "id": "lvEeMh50c2mF",
      "execution_count": null,
      "outputs": [
        {
          "output_type": "stream",
          "name": "stdout",
          "text": [
            "Count Matrix: [[0 0 0 ... 0 0 0]\n",
            " [0 0 0 ... 0 0 0]\n",
            " [0 0 0 ... 0 0 0]\n",
            " ...\n",
            " [0 0 0 ... 0 0 0]\n",
            " [0 0 0 ... 0 0 0]\n",
            " [0 0 0 ... 0 0 0]]\n",
            "['Revolutionary Road'\n",
            " 'A young couple living in a Connecticut suburb during the mid-1950s struggle to come to terms with their personal problems while trying to raise their two children. Based on a novel by Richard Yates.'\n",
            " \"'Scott Rudin Productions', 'BBC Films', 'Neal Street Productions', 'Evamere Entertainment', 'DreamWorks Pictures', 'Goldcrest'\"\n",
            " 'https://www.themoviedb.org/t/p/w600_and_h900_bestv2/1jYKJEGcgbkEjlKuY94Dv7BVe1P.jpg'\n",
            " nan \"'Leonardo DiCaprio', 'Christopher Fitzgerald', 'Jonathan Roumie'\"\n",
            " \"'Kate Winslet'\" \"'Sam Mendes'\" \"'Drama',  'Romance'\" 7.3 2008]\n",
            "\n",
            "['The Aviator'\n",
            " 'A biopic depicting the life of filmmaker and aviation pioneer Howard Hughes from 1927 to 1947, during which time he became a successful film producer and an aviation magnate, while simultaneously growing more unstable due to severe obsessive-compulsive disorder.'\n",
            " '\\'Miramax\\', \\'Appian Way\\', \\'Forward Pass\\', \\'Cappa Productions\\', \\'Initial Entertainment Group\\', \\'IMF Internationale Medien und Film GmbH & Co. 3. Produktions KG\\', \"Mel\\'s Cite du Cinema\", \\'Warner Bros. Pictures\\''\n",
            " 'https://www.themoviedb.org/t/p/w600_and_h900_bestv2/lx4kWcZc3o9PaNxlQpEJZM17XUI.jpg'\n",
            " nan \"'Leonardo DiCaprio', 'John C. Reilly'\"\n",
            " \"'Kate Beckinsale', 'Cate Blanchett'\" \"'Martin Scorsese'\"\n",
            " \"'Biography',  'Drama'\" 7.5 2004]\n",
            "\n",
            "['A Little Bit of Heaven'\n",
            " \"A guarded woman who finds out she's dying of cancer but, when she meets her match, the threat of falling in love is scarier than death.\"\n",
            " \"'MJW Films', 'Davis Entertainment', 'The Film Department'\"\n",
            " 'https://www.themoviedb.org/t/p/w600_and_h900_bestv2/nEWNdL8hCbXxTspxAVHxqE0ZxFt.jpg'\n",
            " nan \"'Gael García Bernal', 'Peter Dinklage'\"\n",
            " \"'Kathy Bates', 'Kate Hudson'\" \"'Nicole Kassell'\"\n",
            " \"'Comedy',  'Drama',  'Fantasy'\" 6.3 2011]\n",
            "\n",
            "['Bad Santa 2'\n",
            " \"Fueled by cheap whiskey, greed and hatred, Willie Soke teams up with his angry little sidekick, Marcus, to knock off a Chicago charity on Christmas Eve. Along for the ride is chubby and cheery Thurman Merman, a 250-pound ray of sunshine who brings out Willie's sliver of humanity. Issues arise when the pair are joined by Willie's horror story of a mother, who raises the bar for the gang's ambitions, while somehow lowering the standards of criminal behavior.\"\n",
            " \"'Ingenious Media', 'Broad Green Pictures', 'Miramax'\"\n",
            " 'https://www.themoviedb.org/t/p/w600_and_h900_bestv2/xmsEwpA2fSq6IO3sfKrLuIPLHSc.jpg'\n",
            " 'http://www.badsanta2.com/' \"'Tony Cox', 'Billy Bob Thornton'\"\n",
            " \"'Kathy Bates', 'Christina Hendricks'\" \"'Mark Waters'\"\n",
            " \"'Comedy',  'Drama',  'Crime'\" 5.6 2016]\n",
            "\n"
          ]
        }
      ]
    },
    {
      "cell_type": "code",
      "source": [
        "# Les mêmes résultats ont été obtenus même \n",
        "# si le nettoyage a été fait. Je pense qu'il vaudra mieux utiliser \n",
        "# key words à la place en termes de recommandation."
      ],
      "metadata": {
        "id": "nQSv2QUif2rP"
      },
      "id": "nQSv2QUif2rP",
      "execution_count": null,
      "outputs": []
    }
  ],
  "metadata": {
    "kernelspec": {
      "display_name": "Python 3 (ipykernel)",
      "language": "python",
      "name": "python3"
    },
    "language_info": {
      "codemirror_mode": {
        "name": "ipython",
        "version": 3
      },
      "file_extension": ".py",
      "mimetype": "text/x-python",
      "name": "python",
      "nbconvert_exporter": "python",
      "pygments_lexer": "ipython3",
      "version": "3.8.11"
    },
    "colab": {
      "name": "CaeaFlix_Recommandation_System.ipynb",
      "provenance": [],
      "include_colab_link": true
    }
  },
  "nbformat": 4,
  "nbformat_minor": 5
}